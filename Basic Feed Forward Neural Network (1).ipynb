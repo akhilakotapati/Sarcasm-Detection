{
 "cells": [
  {
   "cell_type": "code",
   "execution_count": 453,
   "metadata": {},
   "outputs": [],
   "source": [
    "# Jai Ganesh Deva"
   ]
  },
  {
   "cell_type": "markdown",
   "metadata": {},
   "source": [
    "# _*Implementation of a Feed forward Neural Network*_\n",
    "\n",
    "### __Features__ <br>\n",
    "\n",
    "1) Text Based Numerical Features based on NTLK <br>\n",
    "2) TFIDF <br>\n",
    "3) LSI topics<br>\n",
    "4) LDA topics<br>\n"
   ]
  },
  {
   "cell_type": "code",
   "execution_count": 454,
   "metadata": {},
   "outputs": [],
   "source": [
    "import numpy as np\n",
    "import pandas as pd\n",
    "from sklearn.feature_extraction.text import TfidfVectorizer\n",
    "from nltk.corpus import stopwords\n",
    "from nltk.stem import WordNetLemmatizer\n",
    "from nltk.tokenize  import word_tokenize\n",
    "import nltk\n",
    "from sklearn.decomposition import TruncatedSVD\n",
    "from sklearn import pipeline,metrics, grid_search\n",
    "from gensim import models, corpora\n",
    "from gensim.models import ldamodel\n",
    "import os\n",
    "import matplotlib.pyplot as plt\n",
    "%matplotlib inline\n",
    "import collections\n",
    "import io\n",
    "import csv\n",
    "import numpy as np\n",
    "import pandas as pd\n",
    "import dill as pickle\n",
    "import gensim\n",
    "from gensim.models import word2vec,doc2vec\n",
    "from sklearn.feature_extraction.text import TfidfVectorizer\n",
    "from sklearn.linear_model import LogisticRegression\n",
    "from sklearn.model_selection import cross_val_score\n",
    "from sklearn.pipeline import make_union\n",
    "from keras.callbacks import Callback\n",
    "from sklearn.metrics import confusion_matrix, f1_score, precision_score, recall_score\n",
    "from sklearn import metrics"
   ]
  },
  {
   "cell_type": "code",
   "execution_count": 455,
   "metadata": {},
   "outputs": [],
   "source": [
    "from keras.models import Sequential\n",
    "from keras.preprocessing.text import Tokenizer\n",
    "from keras.preprocessing.sequence import pad_sequences\n",
    "from keras.layers import  Dense, Input, LSTM, Embedding, Dropout, Activation\n",
    "from keras.layers import Bidirectional, GlobalMaxPool1D,Bidirectional\n",
    "from keras.models import Model\n",
    "from keras.callbacks import EarlyStopping\n",
    "from keras import initializers, regularizers, constraints, optimizers, layers\n",
    "from keras.layers.normalization import BatchNormalization\n",
    "import matplotlib.pyplot as plt\n",
    "%matplotlib inline\n",
    "import seaborn as sns\n",
    "\n",
    "\n",
    "import gc"
   ]
  },
  {
   "cell_type": "code",
   "execution_count": 456,
   "metadata": {},
   "outputs": [],
   "source": [
    "import pandas as pd\n",
    "pd.options.mode.chained_assignment = None \n",
    "import numpy as np\n",
    "import re\n",
    "import nltk\n",
    "\n",
    "from gensim.models import word2vec\n",
    "\n",
    "from sklearn.manifold import TSNE\n",
    "import matplotlib.pyplot as plt\n",
    "%matplotlib inline"
   ]
  },
  {
   "cell_type": "code",
   "execution_count": 457,
   "metadata": {},
   "outputs": [],
   "source": [
    "os.chdir(\"E:\\\\Datasets\\\\Final Project\\\\Politics Final\\\\test_balanced\")"
   ]
  },
  {
   "cell_type": "code",
   "execution_count": 458,
   "metadata": {},
   "outputs": [],
   "source": [
    "X_train = pd.read_csv(\"train_ndf.csv\")"
   ]
  },
  {
   "cell_type": "code",
   "execution_count": 459,
   "metadata": {},
   "outputs": [
    {
     "data": {
      "text/plain": [
       "Index(['commentid', 'sarcastic or not', 'author', 'created_utc', 'date',\n",
       "       'downs', 'score', 'subreddit', 'text', 'ups', 'no_of_words',\n",
       "       'no_of_uppercase_letters', 'polarity', 'subjectivity', 'no_of_!',\n",
       "       'no_of_dots', 'no_of_?', 'no_of_single_quotes', 'lower_text',\n",
       "       'lower_wp', 'text_tokens', 'text_tokens_stop', 'lemmatized',\n",
       "       'pos_tagged', 'pos_vector', 'Pos_NN', 'Pos_JJ', 'Pos_VB', 'Pos_RB',\n",
       "       'Noun_Ratio', 'Adjective_Ratio', 'Verb_Ratio', 'Adverb_Ratio'],\n",
       "      dtype='object')"
      ]
     },
     "execution_count": 459,
     "metadata": {},
     "output_type": "execute_result"
    }
   ],
   "source": [
    "X_train.columns"
   ]
  },
  {
   "cell_type": "code",
   "execution_count": null,
   "metadata": {},
   "outputs": [],
   "source": []
  },
  {
   "cell_type": "code",
   "execution_count": 460,
   "metadata": {},
   "outputs": [
    {
     "data": {
      "text/html": [
       "<div>\n",
       "<style scoped>\n",
       "    .dataframe tbody tr th:only-of-type {\n",
       "        vertical-align: middle;\n",
       "    }\n",
       "\n",
       "    .dataframe tbody tr th {\n",
       "        vertical-align: top;\n",
       "    }\n",
       "\n",
       "    .dataframe thead th {\n",
       "        text-align: right;\n",
       "    }\n",
       "</style>\n",
       "<table border=\"1\" class=\"dataframe\">\n",
       "  <thead>\n",
       "    <tr style=\"text-align: right;\">\n",
       "      <th></th>\n",
       "      <th>commentid</th>\n",
       "      <th>sarcastic or not</th>\n",
       "      <th>author</th>\n",
       "      <th>created_utc</th>\n",
       "      <th>date</th>\n",
       "      <th>downs</th>\n",
       "      <th>score</th>\n",
       "      <th>subreddit</th>\n",
       "      <th>text</th>\n",
       "      <th>ups</th>\n",
       "      <th>...</th>\n",
       "      <th>pos_tagged</th>\n",
       "      <th>pos_vector</th>\n",
       "      <th>Pos_NN</th>\n",
       "      <th>Pos_JJ</th>\n",
       "      <th>Pos_VB</th>\n",
       "      <th>Pos_RB</th>\n",
       "      <th>Noun_Ratio</th>\n",
       "      <th>Adjective_Ratio</th>\n",
       "      <th>Verb_Ratio</th>\n",
       "      <th>Adverb_Ratio</th>\n",
       "    </tr>\n",
       "  </thead>\n",
       "  <tbody>\n",
       "    <tr>\n",
       "      <th>0</th>\n",
       "      <td>c06zzxs</td>\n",
       "      <td>1</td>\n",
       "      <td>feliandrade</td>\n",
       "      <td>1231810289</td>\n",
       "      <td>2009-01</td>\n",
       "      <td>0</td>\n",
       "      <td>9</td>\n",
       "      <td>politics</td>\n",
       "      <td>damn jews</td>\n",
       "      <td>9</td>\n",
       "      <td>...</td>\n",
       "      <td>[('damn', 'NN'), ('jews', 'NNS')]</td>\n",
       "      <td>[2. 0. 0. 0.]</td>\n",
       "      <td>2</td>\n",
       "      <td>0</td>\n",
       "      <td>0</td>\n",
       "      <td>0</td>\n",
       "      <td>1.0</td>\n",
       "      <td>0.0</td>\n",
       "      <td>0.0</td>\n",
       "      <td>0.0</td>\n",
       "    </tr>\n",
       "  </tbody>\n",
       "</table>\n",
       "<p>1 rows × 33 columns</p>\n",
       "</div>"
      ],
      "text/plain": [
       "  commentid  sarcastic or not       author  created_utc     date  downs  \\\n",
       "0   c06zzxs                 1  feliandrade   1231810289  2009-01      0   \n",
       "\n",
       "   score subreddit       text  ups     ...       \\\n",
       "0      9  politics  damn jews    9     ...        \n",
       "\n",
       "                          pos_tagged     pos_vector  Pos_NN  Pos_JJ  Pos_VB  \\\n",
       "0  [('damn', 'NN'), ('jews', 'NNS')]  [2. 0. 0. 0.]       2       0       0   \n",
       "\n",
       "   Pos_RB  Noun_Ratio  Adjective_Ratio Verb_Ratio Adverb_Ratio  \n",
       "0       0         1.0              0.0        0.0          0.0  \n",
       "\n",
       "[1 rows x 33 columns]"
      ]
     },
     "execution_count": 460,
     "metadata": {},
     "output_type": "execute_result"
    }
   ],
   "source": [
    "X_train.head(1)"
   ]
  },
  {
   "cell_type": "code",
   "execution_count": 461,
   "metadata": {},
   "outputs": [],
   "source": [
    "X_test = pd.read_csv(\"test_ndf.csv\")"
   ]
  },
  {
   "cell_type": "code",
   "execution_count": 462,
   "metadata": {},
   "outputs": [
    {
     "data": {
      "text/html": [
       "<div>\n",
       "<style scoped>\n",
       "    .dataframe tbody tr th:only-of-type {\n",
       "        vertical-align: middle;\n",
       "    }\n",
       "\n",
       "    .dataframe tbody tr th {\n",
       "        vertical-align: top;\n",
       "    }\n",
       "\n",
       "    .dataframe thead th {\n",
       "        text-align: right;\n",
       "    }\n",
       "</style>\n",
       "<table border=\"1\" class=\"dataframe\">\n",
       "  <thead>\n",
       "    <tr style=\"text-align: right;\">\n",
       "      <th></th>\n",
       "      <th>Unnamed: 0</th>\n",
       "      <th>Unnamed: 0.1</th>\n",
       "      <th>commentid</th>\n",
       "      <th>sarcastic or not</th>\n",
       "      <th>author</th>\n",
       "      <th>created_utc</th>\n",
       "      <th>date</th>\n",
       "      <th>downs</th>\n",
       "      <th>score</th>\n",
       "      <th>subreddit</th>\n",
       "      <th>...</th>\n",
       "      <th>pos_tagged</th>\n",
       "      <th>pos_vector</th>\n",
       "      <th>Pos_NN</th>\n",
       "      <th>Pos_JJ</th>\n",
       "      <th>Pos_VB</th>\n",
       "      <th>Pos_RB</th>\n",
       "      <th>Noun_Ratio</th>\n",
       "      <th>Adjective_Ratio</th>\n",
       "      <th>Verb_Ratio</th>\n",
       "      <th>Adverb_Ratio</th>\n",
       "    </tr>\n",
       "  </thead>\n",
       "  <tbody>\n",
       "    <tr>\n",
       "      <th>0</th>\n",
       "      <td>0</td>\n",
       "      <td>2</td>\n",
       "      <td>c0705w5</td>\n",
       "      <td>0</td>\n",
       "      <td>njharman</td>\n",
       "      <td>1231828890</td>\n",
       "      <td>2009-01</td>\n",
       "      <td>0</td>\n",
       "      <td>5</td>\n",
       "      <td>politics</td>\n",
       "      <td>...</td>\n",
       "      <td>[('rest', 'NN'), ('prisoners', 'NNS'), ('um', ...</td>\n",
       "      <td>[3. 2. 0. 0.]</td>\n",
       "      <td>3.0</td>\n",
       "      <td>2.0</td>\n",
       "      <td>0.0</td>\n",
       "      <td>0.0</td>\n",
       "      <td>0.1875</td>\n",
       "      <td>0.125</td>\n",
       "      <td>0.0</td>\n",
       "      <td>0.0</td>\n",
       "    </tr>\n",
       "  </tbody>\n",
       "</table>\n",
       "<p>1 rows × 35 columns</p>\n",
       "</div>"
      ],
      "text/plain": [
       "   Unnamed: 0  Unnamed: 0.1 commentid  sarcastic or not    author  \\\n",
       "0           0             2   c0705w5                 0  njharman   \n",
       "\n",
       "   created_utc     date  downs  score subreddit      ...       \\\n",
       "0   1231828890  2009-01      0      5  politics      ...        \n",
       "\n",
       "                                          pos_tagged     pos_vector  Pos_NN  \\\n",
       "0  [('rest', 'NN'), ('prisoners', 'NNS'), ('um', ...  [3. 2. 0. 0.]     3.0   \n",
       "\n",
       "   Pos_JJ  Pos_VB  Pos_RB  Noun_Ratio  Adjective_Ratio  Verb_Ratio  \\\n",
       "0     2.0     0.0     0.0      0.1875            0.125         0.0   \n",
       "\n",
       "   Adverb_Ratio  \n",
       "0           0.0  \n",
       "\n",
       "[1 rows x 35 columns]"
      ]
     },
     "execution_count": 462,
     "metadata": {},
     "output_type": "execute_result"
    }
   ],
   "source": [
    "X_test.head(1)"
   ]
  },
  {
   "cell_type": "code",
   "execution_count": 463,
   "metadata": {},
   "outputs": [
    {
     "data": {
      "text/plain": [
       "Index(['commentid', 'sarcastic or not', 'author', 'created_utc', 'date',\n",
       "       'downs', 'score', 'subreddit', 'text', 'ups', 'no_of_words',\n",
       "       'no_of_uppercase_letters', 'polarity', 'subjectivity', 'no_of_!',\n",
       "       'no_of_dots', 'no_of_?', 'no_of_single_quotes', 'lower_text',\n",
       "       'lower_wp', 'text_tokens', 'text_tokens_stop', 'lemmatized',\n",
       "       'pos_tagged', 'pos_vector', 'Pos_NN', 'Pos_JJ', 'Pos_VB', 'Pos_RB',\n",
       "       'Noun_Ratio', 'Adjective_Ratio', 'Verb_Ratio', 'Adverb_Ratio'],\n",
       "      dtype='object')"
      ]
     },
     "execution_count": 463,
     "metadata": {},
     "output_type": "execute_result"
    }
   ],
   "source": [
    "X_train.columns"
   ]
  },
  {
   "cell_type": "markdown",
   "metadata": {},
   "source": [
    "# Information Gain"
   ]
  },
  {
   "cell_type": "code",
   "execution_count": 464,
   "metadata": {},
   "outputs": [],
   "source": [
    "from pandas import read_csv\n",
    "from sklearn.ensemble import ExtraTreesClassifier\n",
    "# load data\n",
    "ig_x = pd.DataFrame(X_train[['downs', 'score','ups', 'no_of_words',\n",
    "       'no_of_uppercase_letters', 'polarity', 'subjectivity', 'no_of_!',\n",
    "       'no_of_dots', 'no_of_?', 'no_of_single_quotes', 'Pos_NN', 'Pos_JJ', 'Pos_VB', 'Pos_RB',\n",
    "       'Noun_Ratio', 'Adjective_Ratio', 'Verb_Ratio', 'Adverb_Ratio']])\n",
    "\n"
   ]
  },
  {
   "cell_type": "code",
   "execution_count": 465,
   "metadata": {},
   "outputs": [],
   "source": [
    "ig_y = pd.DataFrame(X_train[\"sarcastic or not\"])"
   ]
  },
  {
   "cell_type": "code",
   "execution_count": 466,
   "metadata": {},
   "outputs": [
    {
     "data": {
      "text/html": [
       "<div>\n",
       "<style scoped>\n",
       "    .dataframe tbody tr th:only-of-type {\n",
       "        vertical-align: middle;\n",
       "    }\n",
       "\n",
       "    .dataframe tbody tr th {\n",
       "        vertical-align: top;\n",
       "    }\n",
       "\n",
       "    .dataframe thead th {\n",
       "        text-align: right;\n",
       "    }\n",
       "</style>\n",
       "<table border=\"1\" class=\"dataframe\">\n",
       "  <thead>\n",
       "    <tr style=\"text-align: right;\">\n",
       "      <th></th>\n",
       "      <th>downs</th>\n",
       "      <th>score</th>\n",
       "      <th>ups</th>\n",
       "      <th>no_of_words</th>\n",
       "      <th>no_of_uppercase_letters</th>\n",
       "      <th>polarity</th>\n",
       "      <th>subjectivity</th>\n",
       "      <th>no_of_!</th>\n",
       "      <th>no_of_dots</th>\n",
       "      <th>no_of_?</th>\n",
       "      <th>no_of_single_quotes</th>\n",
       "      <th>Pos_NN</th>\n",
       "      <th>Pos_JJ</th>\n",
       "      <th>Pos_VB</th>\n",
       "      <th>Pos_RB</th>\n",
       "      <th>Noun_Ratio</th>\n",
       "      <th>Adjective_Ratio</th>\n",
       "      <th>Verb_Ratio</th>\n",
       "      <th>Adverb_Ratio</th>\n",
       "    </tr>\n",
       "  </thead>\n",
       "  <tbody>\n",
       "    <tr>\n",
       "      <th>0</th>\n",
       "      <td>0</td>\n",
       "      <td>9</td>\n",
       "      <td>9</td>\n",
       "      <td>2</td>\n",
       "      <td>0</td>\n",
       "      <td>0.000000</td>\n",
       "      <td>0.000000</td>\n",
       "      <td>0</td>\n",
       "      <td>0</td>\n",
       "      <td>0</td>\n",
       "      <td>0</td>\n",
       "      <td>2</td>\n",
       "      <td>0</td>\n",
       "      <td>0</td>\n",
       "      <td>0</td>\n",
       "      <td>1.000000</td>\n",
       "      <td>0.000000</td>\n",
       "      <td>0.000000</td>\n",
       "      <td>0.000000</td>\n",
       "    </tr>\n",
       "    <tr>\n",
       "      <th>1</th>\n",
       "      <td>0</td>\n",
       "      <td>17</td>\n",
       "      <td>17</td>\n",
       "      <td>8</td>\n",
       "      <td>1</td>\n",
       "      <td>0.500000</td>\n",
       "      <td>0.500000</td>\n",
       "      <td>0</td>\n",
       "      <td>1</td>\n",
       "      <td>0</td>\n",
       "      <td>1</td>\n",
       "      <td>1</td>\n",
       "      <td>1</td>\n",
       "      <td>0</td>\n",
       "      <td>0</td>\n",
       "      <td>0.125000</td>\n",
       "      <td>0.125000</td>\n",
       "      <td>0.000000</td>\n",
       "      <td>0.000000</td>\n",
       "    </tr>\n",
       "    <tr>\n",
       "      <th>2</th>\n",
       "      <td>0</td>\n",
       "      <td>3</td>\n",
       "      <td>3</td>\n",
       "      <td>25</td>\n",
       "      <td>9</td>\n",
       "      <td>0.392857</td>\n",
       "      <td>0.517857</td>\n",
       "      <td>0</td>\n",
       "      <td>1</td>\n",
       "      <td>0</td>\n",
       "      <td>0</td>\n",
       "      <td>6</td>\n",
       "      <td>2</td>\n",
       "      <td>3</td>\n",
       "      <td>1</td>\n",
       "      <td>0.240000</td>\n",
       "      <td>0.080000</td>\n",
       "      <td>0.120000</td>\n",
       "      <td>0.040000</td>\n",
       "    </tr>\n",
       "    <tr>\n",
       "      <th>3</th>\n",
       "      <td>0</td>\n",
       "      <td>3</td>\n",
       "      <td>3</td>\n",
       "      <td>8</td>\n",
       "      <td>1</td>\n",
       "      <td>0.000000</td>\n",
       "      <td>0.000000</td>\n",
       "      <td>0</td>\n",
       "      <td>1</td>\n",
       "      <td>0</td>\n",
       "      <td>1</td>\n",
       "      <td>2</td>\n",
       "      <td>0</td>\n",
       "      <td>1</td>\n",
       "      <td>0</td>\n",
       "      <td>0.250000</td>\n",
       "      <td>0.000000</td>\n",
       "      <td>0.125000</td>\n",
       "      <td>0.000000</td>\n",
       "    </tr>\n",
       "    <tr>\n",
       "      <th>4</th>\n",
       "      <td>0</td>\n",
       "      <td>27</td>\n",
       "      <td>27</td>\n",
       "      <td>44</td>\n",
       "      <td>1</td>\n",
       "      <td>0.143750</td>\n",
       "      <td>0.623437</td>\n",
       "      <td>0</td>\n",
       "      <td>1</td>\n",
       "      <td>0</td>\n",
       "      <td>1</td>\n",
       "      <td>7</td>\n",
       "      <td>6</td>\n",
       "      <td>4</td>\n",
       "      <td>3</td>\n",
       "      <td>0.159091</td>\n",
       "      <td>0.136364</td>\n",
       "      <td>0.090909</td>\n",
       "      <td>0.068182</td>\n",
       "    </tr>\n",
       "  </tbody>\n",
       "</table>\n",
       "</div>"
      ],
      "text/plain": [
       "   downs  score  ups  no_of_words  no_of_uppercase_letters  polarity  \\\n",
       "0      0      9    9            2                        0  0.000000   \n",
       "1      0     17   17            8                        1  0.500000   \n",
       "2      0      3    3           25                        9  0.392857   \n",
       "3      0      3    3            8                        1  0.000000   \n",
       "4      0     27   27           44                        1  0.143750   \n",
       "\n",
       "   subjectivity  no_of_!  no_of_dots  no_of_?  no_of_single_quotes  Pos_NN  \\\n",
       "0      0.000000        0           0        0                    0       2   \n",
       "1      0.500000        0           1        0                    1       1   \n",
       "2      0.517857        0           1        0                    0       6   \n",
       "3      0.000000        0           1        0                    1       2   \n",
       "4      0.623437        0           1        0                    1       7   \n",
       "\n",
       "   Pos_JJ  Pos_VB  Pos_RB  Noun_Ratio  Adjective_Ratio  Verb_Ratio  \\\n",
       "0       0       0       0    1.000000         0.000000    0.000000   \n",
       "1       1       0       0    0.125000         0.125000    0.000000   \n",
       "2       2       3       1    0.240000         0.080000    0.120000   \n",
       "3       0       1       0    0.250000         0.000000    0.125000   \n",
       "4       6       4       3    0.159091         0.136364    0.090909   \n",
       "\n",
       "   Adverb_Ratio  \n",
       "0      0.000000  \n",
       "1      0.000000  \n",
       "2      0.040000  \n",
       "3      0.000000  \n",
       "4      0.068182  "
      ]
     },
     "execution_count": 466,
     "metadata": {},
     "output_type": "execute_result"
    }
   ],
   "source": [
    "ig_x.head()"
   ]
  },
  {
   "cell_type": "code",
   "execution_count": 467,
   "metadata": {},
   "outputs": [],
   "source": [
    "\n",
    "X = np.array(ig_x.values)\n",
    "Y = np.array(ig_y.values)\n"
   ]
  },
  {
   "cell_type": "code",
   "execution_count": 468,
   "metadata": {},
   "outputs": [],
   "source": [
    "train_Y = np.array(X_train[\"sarcastic or not\"])"
   ]
  },
  {
   "cell_type": "code",
   "execution_count": 469,
   "metadata": {},
   "outputs": [],
   "source": [
    "test_Y = np.array(X_test[\"sarcastic or not\"])"
   ]
  },
  {
   "cell_type": "code",
   "execution_count": 470,
   "metadata": {},
   "outputs": [
    {
     "name": "stderr",
     "output_type": "stream",
     "text": [
      "C:\\Users\\vamsi\\Anaconda3\\lib\\site-packages\\ipykernel_launcher.py:3: DataConversionWarning: A column-vector y was passed when a 1d array was expected. Please change the shape of y to (n_samples,), for example using ravel().\n",
      "  This is separate from the ipykernel package so we can avoid doing imports until\n"
     ]
    }
   ],
   "source": [
    "# feature extraction\n",
    "model = ExtraTreesClassifier()\n",
    "model.fit(X, Y)\n",
    "info = pd.DataFrame(model.feature_importances_, index = ig_x.columns,columns = [\"Feature Importance\"])"
   ]
  },
  {
   "cell_type": "code",
   "execution_count": 471,
   "metadata": {},
   "outputs": [
    {
     "data": {
      "text/html": [
       "<div>\n",
       "<style scoped>\n",
       "    .dataframe tbody tr th:only-of-type {\n",
       "        vertical-align: middle;\n",
       "    }\n",
       "\n",
       "    .dataframe tbody tr th {\n",
       "        vertical-align: top;\n",
       "    }\n",
       "\n",
       "    .dataframe thead th {\n",
       "        text-align: right;\n",
       "    }\n",
       "</style>\n",
       "<table border=\"1\" class=\"dataframe\">\n",
       "  <thead>\n",
       "    <tr style=\"text-align: right;\">\n",
       "      <th></th>\n",
       "      <th>Feature Importance</th>\n",
       "    </tr>\n",
       "  </thead>\n",
       "  <tbody>\n",
       "    <tr>\n",
       "      <th>downs</th>\n",
       "      <td>0.022327</td>\n",
       "    </tr>\n",
       "    <tr>\n",
       "      <th>score</th>\n",
       "      <td>0.114466</td>\n",
       "    </tr>\n",
       "    <tr>\n",
       "      <th>ups</th>\n",
       "      <td>0.062103</td>\n",
       "    </tr>\n",
       "    <tr>\n",
       "      <th>no_of_words</th>\n",
       "      <td>0.070228</td>\n",
       "    </tr>\n",
       "    <tr>\n",
       "      <th>no_of_uppercase_letters</th>\n",
       "      <td>0.083395</td>\n",
       "    </tr>\n",
       "    <tr>\n",
       "      <th>polarity</th>\n",
       "      <td>0.068965</td>\n",
       "    </tr>\n",
       "    <tr>\n",
       "      <th>subjectivity</th>\n",
       "      <td>0.068028</td>\n",
       "    </tr>\n",
       "    <tr>\n",
       "      <th>no_of_!</th>\n",
       "      <td>0.039385</td>\n",
       "    </tr>\n",
       "    <tr>\n",
       "      <th>no_of_dots</th>\n",
       "      <td>0.048783</td>\n",
       "    </tr>\n",
       "    <tr>\n",
       "      <th>no_of_?</th>\n",
       "      <td>0.012062</td>\n",
       "    </tr>\n",
       "    <tr>\n",
       "      <th>no_of_single_quotes</th>\n",
       "      <td>0.037672</td>\n",
       "    </tr>\n",
       "    <tr>\n",
       "      <th>Pos_NN</th>\n",
       "      <td>0.055637</td>\n",
       "    </tr>\n",
       "    <tr>\n",
       "      <th>Pos_JJ</th>\n",
       "      <td>0.036861</td>\n",
       "    </tr>\n",
       "    <tr>\n",
       "      <th>Pos_VB</th>\n",
       "      <td>0.040734</td>\n",
       "    </tr>\n",
       "    <tr>\n",
       "      <th>Pos_RB</th>\n",
       "      <td>0.022923</td>\n",
       "    </tr>\n",
       "    <tr>\n",
       "      <th>Noun_Ratio</th>\n",
       "      <td>0.072073</td>\n",
       "    </tr>\n",
       "    <tr>\n",
       "      <th>Adjective_Ratio</th>\n",
       "      <td>0.054442</td>\n",
       "    </tr>\n",
       "    <tr>\n",
       "      <th>Verb_Ratio</th>\n",
       "      <td>0.056425</td>\n",
       "    </tr>\n",
       "    <tr>\n",
       "      <th>Adverb_Ratio</th>\n",
       "      <td>0.033492</td>\n",
       "    </tr>\n",
       "  </tbody>\n",
       "</table>\n",
       "</div>"
      ],
      "text/plain": [
       "                         Feature Importance\n",
       "downs                              0.022327\n",
       "score                              0.114466\n",
       "ups                                0.062103\n",
       "no_of_words                        0.070228\n",
       "no_of_uppercase_letters            0.083395\n",
       "polarity                           0.068965\n",
       "subjectivity                       0.068028\n",
       "no_of_!                            0.039385\n",
       "no_of_dots                         0.048783\n",
       "no_of_?                            0.012062\n",
       "no_of_single_quotes                0.037672\n",
       "Pos_NN                             0.055637\n",
       "Pos_JJ                             0.036861\n",
       "Pos_VB                             0.040734\n",
       "Pos_RB                             0.022923\n",
       "Noun_Ratio                         0.072073\n",
       "Adjective_Ratio                    0.054442\n",
       "Verb_Ratio                         0.056425\n",
       "Adverb_Ratio                       0.033492"
      ]
     },
     "execution_count": 471,
     "metadata": {},
     "output_type": "execute_result"
    }
   ],
   "source": [
    "info"
   ]
  },
  {
   "cell_type": "code",
   "execution_count": 472,
   "metadata": {},
   "outputs": [
    {
     "data": {
      "text/plain": [
       "<matplotlib.axes._subplots.AxesSubplot at 0x1fefe821048>"
      ]
     },
     "execution_count": 472,
     "metadata": {},
     "output_type": "execute_result"
    },
    {
     "data": {
      "image/png": "[encoded data removed]",
      "text/plain": [
       "<matplotlib.figure.Figure at 0x1fefe8215f8>"
      ]
     },
     "metadata": {},
     "output_type": "display_data"
    }
   ],
   "source": [
    "sns.distplot(info['Feature Importance'],bins=30,kde=False,color='red')"
   ]
  },
  {
   "cell_type": "code",
   "execution_count": 473,
   "metadata": {},
   "outputs": [],
   "source": [
    "#Bag of Words"
   ]
  },
  {
   "cell_type": "code",
   "execution_count": 474,
   "metadata": {},
   "outputs": [],
   "source": [
    "#Char n-grams"
   ]
  },
  {
   "cell_type": "code",
   "execution_count": 475,
   "metadata": {},
   "outputs": [],
   "source": [
    "word_vectorizer = TfidfVectorizer(\n",
    "    sublinear_tf=True,\n",
    "    strip_accents='unicode',\n",
    "    analyzer='word',\n",
    "    token_pattern=r'\\w{1,}',\n",
    "    ngram_range=(1, 1),\n",
    "    max_features=30000)"
   ]
  },
  {
   "cell_type": "code",
   "execution_count": 476,
   "metadata": {},
   "outputs": [],
   "source": [
    "char_vectorizer = TfidfVectorizer(\n",
    "    sublinear_tf=True,\n",
    "    strip_accents='unicode',\n",
    "    analyzer='char',\n",
    "    ngram_range=(1, 4),\n",
    "    max_features=30000)\n",
    "vectorizer = make_union(word_vectorizer, char_vectorizer, n_jobs=2)"
   ]
  },
  {
   "cell_type": "code",
   "execution_count": 477,
   "metadata": {},
   "outputs": [
    {
     "data": {
      "text/plain": [
       "Index(['commentid', 'sarcastic or not', 'author', 'created_utc', 'date',\n",
       "       'downs', 'score', 'subreddit', 'text', 'ups', 'no_of_words',\n",
       "       'no_of_uppercase_letters', 'polarity', 'subjectivity', 'no_of_!',\n",
       "       'no_of_dots', 'no_of_?', 'no_of_single_quotes', 'lower_text',\n",
       "       'lower_wp', 'text_tokens', 'text_tokens_stop', 'lemmatized',\n",
       "       'pos_tagged', 'pos_vector', 'Pos_NN', 'Pos_JJ', 'Pos_VB', 'Pos_RB',\n",
       "       'Noun_Ratio', 'Adjective_Ratio', 'Verb_Ratio', 'Adverb_Ratio'],\n",
       "      dtype='object')"
      ]
     },
     "execution_count": 477,
     "metadata": {},
     "output_type": "execute_result"
    }
   ],
   "source": [
    "X_train.columns"
   ]
  },
  {
   "cell_type": "code",
   "execution_count": 478,
   "metadata": {},
   "outputs": [],
   "source": [
    "X_train[\"text_tokens_stop\"] = X_train[\"text_tokens_stop\"].str.replace('\\d+', '')"
   ]
  },
  {
   "cell_type": "code",
   "execution_count": 479,
   "metadata": {},
   "outputs": [],
   "source": [
    "X_test[\"text_tokens_stop\"] = X_test[\"text_tokens_stop\"].str.replace('\\d+', '')"
   ]
  },
  {
   "cell_type": "code",
   "execution_count": 480,
   "metadata": {},
   "outputs": [],
   "source": [
    "train_text = X_train['text_tokens_stop']"
   ]
  },
  {
   "cell_type": "code",
   "execution_count": 481,
   "metadata": {},
   "outputs": [],
   "source": [
    "test_text = X_test['text_tokens_stop']"
   ]
  },
  {
   "cell_type": "code",
   "execution_count": 482,
   "metadata": {},
   "outputs": [],
   "source": [
    "all_text = pd.concat([train_text, test_text])"
   ]
  },
  {
   "cell_type": "code",
   "execution_count": 483,
   "metadata": {},
   "outputs": [
    {
     "data": {
      "text/plain": [
       "16508"
      ]
     },
     "execution_count": 483,
     "metadata": {},
     "output_type": "execute_result"
    }
   ],
   "source": [
    "len(all_text)"
   ]
  },
  {
   "cell_type": "code",
   "execution_count": 484,
   "metadata": {},
   "outputs": [
    {
     "data": {
      "text/plain": [
       "pandas.core.series.Series"
      ]
     },
     "execution_count": 484,
     "metadata": {},
     "output_type": "execute_result"
    }
   ],
   "source": [
    "type(all_text)"
   ]
  },
  {
   "cell_type": "code",
   "execution_count": 485,
   "metadata": {},
   "outputs": [
    {
     "data": {
      "text/plain": [
       "TfidfVectorizer(analyzer='word', binary=False, decode_error='strict',\n",
       "        dtype=<class 'numpy.int64'>, encoding='utf-8', input='content',\n",
       "        lowercase=True, max_df=1.0, max_features=30000, min_df=1,\n",
       "        ngram_range=(1, 1), norm='l2', preprocessor=None, smooth_idf=True,\n",
       "        stop_words=None, strip_accents='unicode', sublinear_tf=True,\n",
       "        token_pattern='\\\\w{1,}', tokenizer=None, use_idf=True,\n",
       "        vocabulary=None)"
      ]
     },
     "execution_count": 485,
     "metadata": {},
     "output_type": "execute_result"
    }
   ],
   "source": [
    "word_vectorizer.fit(all_text)"
   ]
  },
  {
   "cell_type": "code",
   "execution_count": 486,
   "metadata": {},
   "outputs": [],
   "source": [
    "train_words = word_vectorizer.transform(train_text)"
   ]
  },
  {
   "cell_type": "code",
   "execution_count": 487,
   "metadata": {},
   "outputs": [],
   "source": [
    "test_words = word_vectorizer.transform(test_text)"
   ]
  },
  {
   "cell_type": "code",
   "execution_count": 488,
   "metadata": {},
   "outputs": [],
   "source": [
    "train_words = train_words.toarray()"
   ]
  },
  {
   "cell_type": "code",
   "execution_count": 489,
   "metadata": {},
   "outputs": [],
   "source": [
    "test_words = test_words.toarray()"
   ]
  },
  {
   "cell_type": "code",
   "execution_count": 490,
   "metadata": {},
   "outputs": [
    {
     "data": {
      "text/plain": [
       "(13668, 14177)"
      ]
     },
     "execution_count": 490,
     "metadata": {},
     "output_type": "execute_result"
    }
   ],
   "source": [
    "train_words.shape"
   ]
  },
  {
   "cell_type": "code",
   "execution_count": 491,
   "metadata": {},
   "outputs": [
    {
     "data": {
      "text/plain": [
       "['_',\n",
       " '___',\n",
       " '_against_',\n",
       " '_donald',\n",
       " '_entertainment_',\n",
       " '_everybody_',\n",
       " '_heh_',\n",
       " '_i',\n",
       " '_promotes_',\n",
       " 'aa',\n",
       " 'aaaaaaaaahhhhhhhh',\n",
       " 'aaaaaand',\n",
       " 'aaaahnnddd',\n",
       " 'aaaand',\n",
       " 'aaand',\n",
       " 'aaannnnd',\n",
       " 'aaron',\n",
       " 'abandon',\n",
       " 'abandoning',\n",
       " 'abbreviating',\n",
       " 'abc',\n",
       " 'abdication',\n",
       " 'abe',\n",
       " 'abedin',\n",
       " 'abide',\n",
       " 'abiding',\n",
       " 'abilities',\n",
       " 'ability',\n",
       " 'abject',\n",
       " 'able',\n",
       " 'abnormal',\n",
       " 'aboard',\n",
       " 'abolish',\n",
       " 'abolished',\n",
       " 'abolishing',\n",
       " 'abominations',\n",
       " 'abort',\n",
       " 'aborted',\n",
       " 'aborting',\n",
       " 'abortion',\n",
       " 'abortions',\n",
       " 'abortive',\n",
       " 'aboutbreitbart',\n",
       " 'abraham',\n",
       " 'abrahamic',\n",
       " 'abroad',\n",
       " 'abromovich',\n",
       " 'abruptly',\n",
       " 'absent',\n",
       " 'absenteeism',\n",
       " 'absolute',\n",
       " 'absolutely',\n",
       " 'absolve',\n",
       " 'absolves',\n",
       " 'abstinence',\n",
       " 'abstinenceonly',\n",
       " 'absurd',\n",
       " 'absurdity',\n",
       " 'abuela',\n",
       " 'abundant',\n",
       " 'abuse',\n",
       " 'abused',\n",
       " 'abuser',\n",
       " 'abusers',\n",
       " 'abuses',\n",
       " 'abusing',\n",
       " 'abusive',\n",
       " 'aca',\n",
       " 'academia',\n",
       " 'academic',\n",
       " 'academics',\n",
       " 'acapella',\n",
       " 'accelerating',\n",
       " 'accent',\n",
       " 'accept',\n",
       " 'acceptable',\n",
       " 'acceptance',\n",
       " 'accepted',\n",
       " 'accepting',\n",
       " 'access',\n",
       " 'accessible',\n",
       " 'accident',\n",
       " 'accidentally',\n",
       " 'accidents',\n",
       " 'accomplice',\n",
       " 'accomplices',\n",
       " 'accomplish',\n",
       " 'accomplished',\n",
       " 'accomplishments',\n",
       " 'accord',\n",
       " 'according',\n",
       " 'accordionplaying',\n",
       " 'account',\n",
       " 'accountability',\n",
       " 'accountable',\n",
       " 'accountants',\n",
       " 'accounts',\n",
       " 'accrue',\n",
       " 'accuracy',\n",
       " 'accurate',\n",
       " 'accurately',\n",
       " 'accusation',\n",
       " 'accusations',\n",
       " 'accuse',\n",
       " 'accused',\n",
       " 'accusers',\n",
       " 'accuses',\n",
       " 'accusing',\n",
       " 'achieve',\n",
       " 'achievement',\n",
       " 'acid',\n",
       " 'acknowledge',\n",
       " 'acknowledgement',\n",
       " 'aclu',\n",
       " 'acolytes',\n",
       " 'acomin',\n",
       " 'acorn',\n",
       " 'acquire',\n",
       " 'across',\n",
       " 'act',\n",
       " 'acted',\n",
       " 'acting',\n",
       " 'action',\n",
       " 'actions',\n",
       " 'active',\n",
       " 'actively',\n",
       " 'activism',\n",
       " 'activist',\n",
       " 'activists',\n",
       " 'activities',\n",
       " 'activity',\n",
       " 'actor',\n",
       " 'actors',\n",
       " 'acts',\n",
       " 'actual',\n",
       " 'actuall',\n",
       " 'actually',\n",
       " 'acumen',\n",
       " 'ad',\n",
       " 'ada',\n",
       " 'adamant',\n",
       " 'adamantly',\n",
       " 'adapt',\n",
       " 'adblock',\n",
       " 'add',\n",
       " 'added',\n",
       " 'addict',\n",
       " 'addicted',\n",
       " 'addiction',\n",
       " 'addictive',\n",
       " 'addicts',\n",
       " 'adding',\n",
       " 'addition',\n",
       " 'additional',\n",
       " 'additions',\n",
       " 'addled',\n",
       " 'address',\n",
       " 'addressed',\n",
       " 'addresses',\n",
       " 'addressing',\n",
       " 'adds',\n",
       " 'adebin',\n",
       " 'adequately',\n",
       " 'adhering',\n",
       " 'adjective',\n",
       " 'adjectives',\n",
       " 'adjust',\n",
       " 'adjusted',\n",
       " 'adl',\n",
       " 'adlai',\n",
       " 'admin',\n",
       " 'administration',\n",
       " 'administrations',\n",
       " 'admired',\n",
       " 'admistrations',\n",
       " 'admit',\n",
       " 'admits',\n",
       " 'admitted',\n",
       " 'admitting',\n",
       " 'adolescents',\n",
       " 'adopted',\n",
       " 'adoption',\n",
       " 'adorable',\n",
       " 'ads',\n",
       " 'aducation',\n",
       " 'adujust',\n",
       " 'adult',\n",
       " 'adulterous',\n",
       " 'adultery',\n",
       " 'adults',\n",
       " 'advanced',\n",
       " 'advancing',\n",
       " 'advantage',\n",
       " 'advantaged',\n",
       " 'adventure',\n",
       " 'adversary',\n",
       " 'adverse',\n",
       " 'adversity',\n",
       " 'advertisement',\n",
       " 'advertising',\n",
       " 'advertize',\n",
       " 'advice',\n",
       " 'advise',\n",
       " 'adviser',\n",
       " 'advisers',\n",
       " 'advisor',\n",
       " 'advisors',\n",
       " 'advisory',\n",
       " 'advocacy',\n",
       " 'advocate',\n",
       " 'advocated',\n",
       " 'advocates',\n",
       " 'advocating',\n",
       " 'aegh',\n",
       " 'af',\n",
       " 'afar',\n",
       " 'affable',\n",
       " 'affair',\n",
       " 'affairs',\n",
       " 'affect',\n",
       " 'affected',\n",
       " 'affecting',\n",
       " 'affective',\n",
       " 'affects',\n",
       " 'affiliated',\n",
       " 'affiliation',\n",
       " 'affirmative',\n",
       " 'affixed',\n",
       " 'afford',\n",
       " 'affordable',\n",
       " 'affording',\n",
       " 'afghani',\n",
       " 'afghanistan',\n",
       " 'afloat',\n",
       " 'afraid',\n",
       " 'africa',\n",
       " 'african',\n",
       " 'africanamerican',\n",
       " 'africanamericans',\n",
       " 'aft',\n",
       " 'afterall',\n",
       " 'afterberners',\n",
       " 'aftermath',\n",
       " 'afterwards',\n",
       " 'ag',\n",
       " 'age',\n",
       " 'agencies',\n",
       " 'agency',\n",
       " 'agenda',\n",
       " 'agendas',\n",
       " 'agent',\n",
       " 'agents',\n",
       " 'ages',\n",
       " 'aggies',\n",
       " 'aggression',\n",
       " 'aggressive',\n",
       " 'aging',\n",
       " 'agitating',\n",
       " 'agnosticatheist',\n",
       " 'ago',\n",
       " 'agolook',\n",
       " 'agoraphobic',\n",
       " 'agraba',\n",
       " 'agree',\n",
       " 'agreed',\n",
       " 'agreement',\n",
       " 'agrees',\n",
       " 'agricultural',\n",
       " 'agriculture',\n",
       " 'ah',\n",
       " 'aha',\n",
       " 'ahahahaha',\n",
       " 'ahca',\n",
       " 'ahead',\n",
       " 'aheh',\n",
       " 'ahh',\n",
       " 'ahhh',\n",
       " 'aholes',\n",
       " 'aid',\n",
       " 'aide',\n",
       " 'aides',\n",
       " 'aids',\n",
       " 'aiken',\n",
       " 'ailes',\n",
       " 'ailment',\n",
       " 'aim',\n",
       " 'aimed',\n",
       " 'aint',\n",
       " 'aipac',\n",
       " 'air',\n",
       " 'airbase',\n",
       " 'aircraft',\n",
       " 'aired',\n",
       " 'airplane',\n",
       " 'airplanes',\n",
       " 'airport',\n",
       " 'airports',\n",
       " 'airstrike',\n",
       " 'aisle',\n",
       " 'ajit',\n",
       " 'aka',\n",
       " 'akbar',\n",
       " 'akin',\n",
       " 'al',\n",
       " 'ala',\n",
       " 'alabama',\n",
       " 'alamo',\n",
       " 'alarmist',\n",
       " 'alaska',\n",
       " 'albeit',\n",
       " 'alberta',\n",
       " 'albright',\n",
       " 'album',\n",
       " 'alcohol',\n",
       " 'alcoholic',\n",
       " 'alcoholism',\n",
       " 'alec',\n",
       " 'aleister',\n",
       " 'aleppo',\n",
       " 'alert',\n",
       " 'alex',\n",
       " 'alexander',\n",
       " 'algorithm',\n",
       " 'alien',\n",
       " 'alienate',\n",
       " 'alienated',\n",
       " 'aliens',\n",
       " 'aligns',\n",
       " 'alike',\n",
       " 'alive',\n",
       " 'alkaeda',\n",
       " 'allahu',\n",
       " 'allcaps',\n",
       " 'allegation',\n",
       " 'allegations',\n",
       " 'allege',\n",
       " 'alleged',\n",
       " 'allegedly',\n",
       " 'allegiance',\n",
       " 'allegiances',\n",
       " 'allen',\n",
       " 'alley',\n",
       " 'alleys',\n",
       " 'allies',\n",
       " 'allotted',\n",
       " 'allow',\n",
       " 'allowance',\n",
       " 'allowed',\n",
       " 'allowing',\n",
       " 'allows',\n",
       " 'allpowerful',\n",
       " 'allstatesmatter',\n",
       " 'alltime',\n",
       " 'ally',\n",
       " 'allyou',\n",
       " 'almanac',\n",
       " 'almighty',\n",
       " 'almost',\n",
       " 'alnobody',\n",
       " 'alone',\n",
       " 'along',\n",
       " 'alongside',\n",
       " 'alot',\n",
       " 'alpha',\n",
       " 'alqaeda',\n",
       " 'already',\n",
       " 'alright',\n",
       " 'also',\n",
       " 'alt',\n",
       " 'alter',\n",
       " 'alternate',\n",
       " 'alternative',\n",
       " 'alternativefacts',\n",
       " 'alternatively',\n",
       " 'alternativepresident',\n",
       " 'alternatives',\n",
       " 'alternativespelling',\n",
       " 'altheadline',\n",
       " 'although',\n",
       " 'altogether',\n",
       " 'altreality',\n",
       " 'altreich',\n",
       " 'altright',\n",
       " 'alum',\n",
       " 'alums',\n",
       " 'alwaleed',\n",
       " 'always',\n",
       " 'am',\n",
       " 'ama',\n",
       " 'amateurs',\n",
       " 'amaze',\n",
       " 'amazed',\n",
       " 'amazing',\n",
       " 'amazingly',\n",
       " 'amazon',\n",
       " 'amazonian',\n",
       " 'ambassador',\n",
       " 'ambassadors',\n",
       " 'ambassadorship',\n",
       " 'ambitions',\n",
       " 'ambitious',\n",
       " 'ambulance',\n",
       " 'amen',\n",
       " 'amendment',\n",
       " 'amendments',\n",
       " 'america',\n",
       " 'american',\n",
       " 'americans',\n",
       " 'americas',\n",
       " 'americorps',\n",
       " 'amerika',\n",
       " 'amid',\n",
       " 'amidst',\n",
       " 'amigo',\n",
       " 'amiright',\n",
       " 'amirite',\n",
       " 'ammo',\n",
       " 'ammunition',\n",
       " 'amoeba',\n",
       " 'among',\n",
       " 'amongst',\n",
       " 'amoral',\n",
       " 'amount',\n",
       " 'amounts',\n",
       " 'amp',\n",
       " 'ampamp',\n",
       " 'ampnbsp',\n",
       " 'amusement',\n",
       " 'amusing',\n",
       " 'amuurica',\n",
       " 'amy',\n",
       " 'anal',\n",
       " 'analog',\n",
       " 'analysis',\n",
       " 'analyst',\n",
       " 'analysts',\n",
       " 'anarchists',\n",
       " 'anarchy',\n",
       " 'ancestors',\n",
       " 'anchor',\n",
       " 'ancient',\n",
       " 'anderson',\n",
       " 'andor',\n",
       " 'andrew',\n",
       " 'andy',\n",
       " 'anecdotal',\n",
       " 'angelfire',\n",
       " 'angels',\n",
       " 'anger',\n",
       " 'angered',\n",
       " 'angie',\n",
       " 'angle',\n",
       " 'angling',\n",
       " 'angrier',\n",
       " 'angry',\n",
       " 'animals',\n",
       " 'anithillary',\n",
       " 'anlytics',\n",
       " 'ann',\n",
       " 'anne',\n",
       " 'annex',\n",
       " 'annexing',\n",
       " 'annihilate',\n",
       " 'annnd',\n",
       " 'annnnnnnnnnnnnnnd',\n",
       " 'annonymoose',\n",
       " 'announce',\n",
       " 'announced',\n",
       " 'announcement',\n",
       " 'announces',\n",
       " 'announcing',\n",
       " 'annoying',\n",
       " 'annual',\n",
       " 'anoint',\n",
       " 'anon',\n",
       " 'anonymous',\n",
       " 'anonymously',\n",
       " 'another',\n",
       " 'anothers',\n",
       " 'answer',\n",
       " 'answered',\n",
       " 'answers',\n",
       " 'anthem',\n",
       " 'anthony',\n",
       " 'anthrax',\n",
       " 'anti',\n",
       " 'antiabortion',\n",
       " 'antiaging',\n",
       " 'antiamerican',\n",
       " 'antibiotics',\n",
       " 'anticapitalist',\n",
       " 'antichoice',\n",
       " 'antichrist',\n",
       " 'antichristian',\n",
       " 'anticipated',\n",
       " 'anticipation',\n",
       " 'anticitizens',\n",
       " 'anticlinton',\n",
       " 'anticorporatist',\n",
       " 'antics',\n",
       " 'antiestablishment',\n",
       " 'antifa',\n",
       " 'antifree',\n",
       " 'antigun',\n",
       " 'antihillary',\n",
       " 'antiillegal',\n",
       " 'antiimmigrant',\n",
       " 'antiintellectualism',\n",
       " 'antijewish',\n",
       " 'antilgbt',\n",
       " 'antilgbtq',\n",
       " 'antimilitary',\n",
       " 'antiminimum',\n",
       " 'antimonsanto',\n",
       " 'antinafta',\n",
       " 'antipolice',\n",
       " 'antique',\n",
       " 'antirefugee',\n",
       " 'antiscience',\n",
       " 'antisecond',\n",
       " 'antisemetic',\n",
       " 'antisemite',\n",
       " 'antisemites',\n",
       " 'antisemitic',\n",
       " 'antisemitism',\n",
       " 'antisemitismhatred',\n",
       " 'antitax',\n",
       " 'antitrump',\n",
       " 'antivaxxers',\n",
       " 'antivirus',\n",
       " 'antiwar',\n",
       " 'antiwestern',\n",
       " 'antiwoman',\n",
       " 'antizionist',\n",
       " 'antonio',\n",
       " 'anxiety',\n",
       " 'anxious',\n",
       " 'anyall',\n",
       " 'anybody',\n",
       " 'anybodybuthillary',\n",
       " 'anymore',\n",
       " 'anyone',\n",
       " 'anyones',\n",
       " 'anythin',\n",
       " 'anything',\n",
       " 'anytime',\n",
       " 'anyway',\n",
       " 'anyways',\n",
       " 'anywhere',\n",
       " 'aok',\n",
       " 'aol',\n",
       " 'ap',\n",
       " 'apart',\n",
       " 'apartment',\n",
       " 'apathetic',\n",
       " 'ape',\n",
       " 'apocalypse',\n",
       " 'apollo',\n",
       " 'apologies',\n",
       " 'apologise',\n",
       " 'apologist',\n",
       " 'apologists',\n",
       " 'apologize',\n",
       " 'apologized',\n",
       " 'apology',\n",
       " 'appalled',\n",
       " 'appalling',\n",
       " 'apparatchiks',\n",
       " 'apparent',\n",
       " 'apparently',\n",
       " 'appeal',\n",
       " 'appealing',\n",
       " 'appeals',\n",
       " 'appear',\n",
       " 'appearance',\n",
       " 'appearances',\n",
       " 'appeared',\n",
       " 'appears',\n",
       " 'appeases',\n",
       " 'appeasment',\n",
       " 'appendix',\n",
       " 'apperently',\n",
       " 'appetizer',\n",
       " 'applaud',\n",
       " 'applause',\n",
       " 'apple',\n",
       " 'apples',\n",
       " 'application',\n",
       " 'applications',\n",
       " 'applied',\n",
       " 'applies',\n",
       " 'apply',\n",
       " 'applying',\n",
       " 'appoint',\n",
       " 'appointed',\n",
       " 'appointees',\n",
       " 'appointing',\n",
       " 'appointment',\n",
       " 'appointments',\n",
       " 'appoints',\n",
       " 'apportioned',\n",
       " 'appreciate',\n",
       " 'appreciates',\n",
       " 'apprentice',\n",
       " 'approach',\n",
       " 'approaching',\n",
       " 'appropriate',\n",
       " 'approval',\n",
       " 'approve',\n",
       " 'approved',\n",
       " 'approves',\n",
       " 'approving',\n",
       " 'april',\n",
       " 'apt',\n",
       " 'ar',\n",
       " 'arab',\n",
       " 'arabi',\n",
       " 'arabia',\n",
       " 'arabians',\n",
       " 'arabic',\n",
       " 'arbeit',\n",
       " 'arbiter',\n",
       " 'arbitrary',\n",
       " 'arbitration',\n",
       " 'arbys',\n",
       " 'arc',\n",
       " 'archers',\n",
       " 'area',\n",
       " 'areas',\n",
       " 'areligious',\n",
       " 'arent',\n",
       " 'aretha',\n",
       " 'argentina',\n",
       " 'argentinian',\n",
       " 'argue',\n",
       " 'argued',\n",
       " 'arguing',\n",
       " 'argument',\n",
       " 'arguments',\n",
       " 'arianna',\n",
       " 'arises',\n",
       " 'arithmetic',\n",
       " 'arizona',\n",
       " 'arizonan',\n",
       " 'arizonas',\n",
       " 'ark',\n",
       " 'arkansas',\n",
       " 'arm',\n",
       " 'armageddon',\n",
       " 'armageddonraptureapocalypse',\n",
       " 'armed',\n",
       " 'armenian',\n",
       " 'armenians',\n",
       " 'arming',\n",
       " 'armor',\n",
       " 'armour',\n",
       " 'arms',\n",
       " 'army',\n",
       " 'armys',\n",
       " 'armz',\n",
       " 'arnold',\n",
       " 'around',\n",
       " 'aroundalthough',\n",
       " 'arranged',\n",
       " 'arrangement',\n",
       " 'arrangements',\n",
       " 'arrest',\n",
       " 'arrested',\n",
       " 'arresting',\n",
       " 'arrests',\n",
       " 'arrival',\n",
       " 'arrivals',\n",
       " 'arrive',\n",
       " 'arrogant',\n",
       " 'arrr',\n",
       " 'arse',\n",
       " 'arsenal',\n",
       " 'arsenic',\n",
       " 'arstotzka',\n",
       " 'art',\n",
       " 'artemenko',\n",
       " 'article',\n",
       " 'articles',\n",
       " 'artists',\n",
       " 'arts',\n",
       " 'aruements',\n",
       " 'aryan',\n",
       " 'asap',\n",
       " 'ashamed',\n",
       " 'ashley',\n",
       " 'asia',\n",
       " 'asian',\n",
       " 'asians',\n",
       " 'aside',\n",
       " 'asinine',\n",
       " 'ask',\n",
       " 'asked',\n",
       " 'asking',\n",
       " 'asks',\n",
       " 'aspect',\n",
       " 'aspects',\n",
       " 'aspen',\n",
       " 'ass',\n",
       " 'assange',\n",
       " 'assassinate',\n",
       " 'assassinated',\n",
       " 'assassinating',\n",
       " 'assassination',\n",
       " 'assault',\n",
       " 'assaulted',\n",
       " 'assaults',\n",
       " 'assclowns',\n",
       " 'asseenontv',\n",
       " 'assemble',\n",
       " 'assembly',\n",
       " 'assertion',\n",
       " 'assertions',\n",
       " 'assertive',\n",
       " 'asserts',\n",
       " 'asses',\n",
       " 'assets',\n",
       " 'asshat',\n",
       " 'asshats',\n",
       " 'asshole',\n",
       " 'assholes',\n",
       " 'assholesyeah',\n",
       " 'assignment',\n",
       " 'assist',\n",
       " 'assistance',\n",
       " 'associated',\n",
       " 'associating',\n",
       " 'association',\n",
       " 'asston',\n",
       " 'assualter',\n",
       " 'assume',\n",
       " 'assumes',\n",
       " 'assuming',\n",
       " 'assured',\n",
       " 'assuring',\n",
       " 'astonishment',\n",
       " 'astounding',\n",
       " 'astoundingly',\n",
       " 'astounds',\n",
       " 'astroturfing',\n",
       " 'astute',\n",
       " 'asylum',\n",
       " 'atampt',\n",
       " 'atari',\n",
       " 'ate',\n",
       " 'atf',\n",
       " 'atheism',\n",
       " 'atheist',\n",
       " 'atheists',\n",
       " 'atlanta',\n",
       " 'atlantic',\n",
       " 'atleast',\n",
       " 'atm',\n",
       " 'atmosphere',\n",
       " 'atrocious',\n",
       " 'atrocities',\n",
       " 'atta',\n",
       " 'attaboy',\n",
       " 'attached',\n",
       " 'attack',\n",
       " 'attacked',\n",
       " 'attacking',\n",
       " 'attacks',\n",
       " 'attempt',\n",
       " 'attempted',\n",
       " 'attempting',\n",
       " 'attempts',\n",
       " 'attend',\n",
       " 'attendance',\n",
       " 'attendant',\n",
       " 'attending',\n",
       " 'attention',\n",
       " 'attentiongrabbing',\n",
       " 'attitude',\n",
       " 'attorney',\n",
       " 'attorneys',\n",
       " 'attract',\n",
       " 'attracting',\n",
       " 'attractive',\n",
       " 'attracts',\n",
       " 'attributable',\n",
       " 'attribute',\n",
       " 'auction',\n",
       " 'audacity',\n",
       " 'audience',\n",
       " 'audit',\n",
       " 'audited',\n",
       " 'august',\n",
       " 'aunt',\n",
       " 'auschwitz',\n",
       " 'austerity',\n",
       " 'australia',\n",
       " 'australian',\n",
       " 'australias',\n",
       " 'austria',\n",
       " 'authentic',\n",
       " 'author',\n",
       " 'authoritarian',\n",
       " 'authoritarianism',\n",
       " 'authority',\n",
       " 'authorization',\n",
       " 'authors',\n",
       " 'autism',\n",
       " 'autistic',\n",
       " 'auto',\n",
       " 'autocrat',\n",
       " 'autographs',\n",
       " 'automakers',\n",
       " 'automated',\n",
       " 'automatic',\n",
       " 'automatically',\n",
       " 'automation',\n",
       " 'available',\n",
       " 'ave',\n",
       " 'avengers',\n",
       " 'avenue',\n",
       " 'average',\n",
       " 'averaged',\n",
       " 'averse',\n",
       " 'averted',\n",
       " 'avoid',\n",
       " 'avoided',\n",
       " 'aw',\n",
       " 'await',\n",
       " 'awaited',\n",
       " 'award',\n",
       " 'awarded',\n",
       " 'aware',\n",
       " 'awash',\n",
       " 'away',\n",
       " 'aways',\n",
       " 'awesome',\n",
       " 'awful',\n",
       " 'awfully',\n",
       " 'awhile',\n",
       " 'awkward',\n",
       " 'awsome',\n",
       " 'aww',\n",
       " 'awww',\n",
       " 'awwww',\n",
       " 'awwwwwk',\n",
       " 'ax',\n",
       " 'axelrod',\n",
       " 'axes',\n",
       " 'axisofevil',\n",
       " 'ay',\n",
       " 'ayatollahs',\n",
       " 'ayn',\n",
       " 'aything',\n",
       " 'ayy',\n",
       " 'b',\n",
       " 'ba',\n",
       " 'baaaaad',\n",
       " 'babbys',\n",
       " 'babees',\n",
       " 'babies',\n",
       " 'baby',\n",
       " 'babycakes',\n",
       " 'babymakingmaking',\n",
       " 'babys',\n",
       " 'bachman',\n",
       " 'bachmann',\n",
       " 'bachmanns',\n",
       " 'back',\n",
       " 'backbone',\n",
       " 'backed',\n",
       " 'backfire',\n",
       " 'backgammon',\n",
       " 'background',\n",
       " 'backing',\n",
       " 'backlash',\n",
       " 'backroom',\n",
       " 'backs',\n",
       " 'backsies',\n",
       " 'backward',\n",
       " 'backwards',\n",
       " 'backwardsevolve',\n",
       " 'backwoods',\n",
       " 'bacon',\n",
       " 'bad',\n",
       " 'badass',\n",
       " 'badasses',\n",
       " 'badderer',\n",
       " 'badge',\n",
       " 'badges',\n",
       " 'badly',\n",
       " 'badlylol',\n",
       " 'badmouthed',\n",
       " 'bads',\n",
       " 'baffled',\n",
       " 'bafoon',\n",
       " 'bag',\n",
       " 'bagging',\n",
       " 'baghdad',\n",
       " 'baghdadi',\n",
       " 'bags',\n",
       " 'bahrain',\n",
       " 'bail',\n",
       " 'bailing',\n",
       " 'bailouts',\n",
       " 'bain',\n",
       " 'bait',\n",
       " 'baiting',\n",
       " 'bake',\n",
       " 'balance',\n",
       " 'balanced',\n",
       " 'balances',\n",
       " 'balancing',\n",
       " 'bald',\n",
       " 'balding',\n",
       " 'baldwin',\n",
       " 'ball',\n",
       " 'balloon',\n",
       " 'ballot',\n",
       " 'ballots',\n",
       " 'balls',\n",
       " 'baltimore',\n",
       " 'bam',\n",
       " 'bamboozled',\n",
       " 'bammy',\n",
       " 'ban',\n",
       " 'banana',\n",
       " 'band',\n",
       " 'banding',\n",
       " 'bang',\n",
       " 'banger',\n",
       " 'banging',\n",
       " 'banished',\n",
       " 'banister',\n",
       " 'banjo',\n",
       " 'bank',\n",
       " 'banker',\n",
       " 'bankers',\n",
       " 'banking',\n",
       " 'bankrolled',\n",
       " 'bankrupt',\n",
       " 'bankruptcies',\n",
       " 'bankruptcy',\n",
       " 'banks',\n",
       " 'bankster',\n",
       " 'banksters',\n",
       " 'banned',\n",
       " 'banning',\n",
       " 'bannon',\n",
       " 'bannons',\n",
       " 'bans',\n",
       " 'banter',\n",
       " 'baptists',\n",
       " 'bar',\n",
       " 'barack',\n",
       " 'barbara',\n",
       " 'barbaric',\n",
       " 'barely',\n",
       " 'barking',\n",
       " 'barkley',\n",
       " 'barnum',\n",
       " 'barometer',\n",
       " 'barons',\n",
       " 'barrack',\n",
       " 'barrage',\n",
       " 'barred',\n",
       " 'barrel',\n",
       " 'barrier',\n",
       " 'barriers',\n",
       " 'barron',\n",
       " 'barry',\n",
       " 'barrycade',\n",
       " 'barryo',\n",
       " 'bars',\n",
       " 'base',\n",
       " 'baseball',\n",
       " 'based',\n",
       " 'baseless',\n",
       " 'baseline',\n",
       " 'basement',\n",
       " 'basements',\n",
       " 'bash',\n",
       " 'bashing',\n",
       " 'basic',\n",
       " 'basically',\n",
       " 'basil',\n",
       " 'basis',\n",
       " 'basket',\n",
       " 'basketball',\n",
       " 'bastard',\n",
       " 'bastards',\n",
       " 'bastion',\n",
       " 'bastions',\n",
       " 'bat',\n",
       " 'bath',\n",
       " 'bathrobe',\n",
       " 'bathroom',\n",
       " 'bathroomright',\n",
       " 'bathrooms',\n",
       " 'batin',\n",
       " 'batman',\n",
       " ...]"
      ]
     },
     "execution_count": 491,
     "metadata": {},
     "output_type": "execute_result"
    }
   ],
   "source": [
    "word_vectorizer.get_feature_names()"
   ]
  },
  {
   "cell_type": "code",
   "execution_count": 492,
   "metadata": {},
   "outputs": [
    {
     "data": {
      "text/plain": [
       "(2840, 14177)"
      ]
     },
     "execution_count": 492,
     "metadata": {},
     "output_type": "execute_result"
    }
   ],
   "source": [
    "test_words.shape"
   ]
  },
  {
   "cell_type": "code",
   "execution_count": 493,
   "metadata": {},
   "outputs": [],
   "source": [
    "classifier = LogisticRegression(solver='sag')"
   ]
  },
  {
   "cell_type": "code",
   "execution_count": 494,
   "metadata": {},
   "outputs": [
    {
     "name": "stderr",
     "output_type": "stream",
     "text": [
      "ERROR:root:Internal Python error in the inspect module.\n",
      "Below is the traceback from this internal error.\n",
      "\n"
     ]
    },
    {
     "name": "stdout",
     "output_type": "stream",
     "text": [
      "Traceback (most recent call last):\n",
      "  File \"C:\\Users\\vamsi\\Anaconda3\\lib\\site-packages\\IPython\\core\\interactiveshell.py\", line 2910, in run_code\n",
      "    exec(code_obj, self.user_global_ns, self.user_ns)\n",
      "  File \"<ipython-input-494-f24b167cfda9>\", line 6, in <module>\n",
      "    results = model_selection.cross_val_score(modelCV, train_words, train_Y, cv=kfold, scoring=scoring)\n",
      "  File \"C:\\Users\\vamsi\\Anaconda3\\lib\\site-packages\\sklearn\\model_selection\\_validation.py\", line 342, in cross_val_score\n",
      "    pre_dispatch=pre_dispatch)\n",
      "  File \"C:\\Users\\vamsi\\Anaconda3\\lib\\site-packages\\sklearn\\model_selection\\_validation.py\", line 206, in cross_validate\n",
      "    for train, test in cv.split(X, y, groups))\n",
      "  File \"C:\\Users\\vamsi\\Anaconda3\\lib\\site-packages\\sklearn\\externals\\joblib\\parallel.py\", line 779, in __call__\n",
      "    while self.dispatch_one_batch(iterator):\n",
      "  File \"C:\\Users\\vamsi\\Anaconda3\\lib\\site-packages\\sklearn\\externals\\joblib\\parallel.py\", line 625, in dispatch_one_batch\n",
      "    self._dispatch(tasks)\n",
      "  File \"C:\\Users\\vamsi\\Anaconda3\\lib\\site-packages\\sklearn\\externals\\joblib\\parallel.py\", line 588, in _dispatch\n",
      "    job = self._backend.apply_async(batch, callback=cb)\n",
      "  File \"C:\\Users\\vamsi\\Anaconda3\\lib\\site-packages\\sklearn\\externals\\joblib\\_parallel_backends.py\", line 111, in apply_async\n",
      "    result = ImmediateResult(func)\n",
      "  File \"C:\\Users\\vamsi\\Anaconda3\\lib\\site-packages\\sklearn\\externals\\joblib\\_parallel_backends.py\", line 332, in __init__\n",
      "    self.results = batch()\n",
      "  File \"C:\\Users\\vamsi\\Anaconda3\\lib\\site-packages\\sklearn\\externals\\joblib\\parallel.py\", line 131, in __call__\n",
      "    return [func(*args, **kwargs) for func, args, kwargs in self.items]\n",
      "  File \"C:\\Users\\vamsi\\Anaconda3\\lib\\site-packages\\sklearn\\externals\\joblib\\parallel.py\", line 131, in <listcomp>\n",
      "    return [func(*args, **kwargs) for func, args, kwargs in self.items]\n",
      "  File \"C:\\Users\\vamsi\\Anaconda3\\lib\\site-packages\\sklearn\\model_selection\\_validation.py\", line 448, in _fit_and_score\n",
      "    X_train, y_train = _safe_split(estimator, X, y, train)\n",
      "  File \"C:\\Users\\vamsi\\Anaconda3\\lib\\site-packages\\sklearn\\utils\\metaestimators.py\", line 200, in _safe_split\n",
      "    X_subset = safe_indexing(X, indices)\n",
      "  File \"C:\\Users\\vamsi\\Anaconda3\\lib\\site-packages\\sklearn\\utils\\__init__.py\", line 160, in safe_indexing\n",
      "    return X.take(indices, axis=0)\n",
      "KeyboardInterrupt\n",
      "\n",
      "During handling of the above exception, another exception occurred:\n",
      "\n",
      "Traceback (most recent call last):\n",
      "  File \"C:\\Users\\vamsi\\Anaconda3\\lib\\site-packages\\IPython\\core\\interactiveshell.py\", line 1828, in showtraceback\n",
      "    stb = value._render_traceback_()\n",
      "AttributeError: 'KeyboardInterrupt' object has no attribute '_render_traceback_'\n",
      "\n",
      "During handling of the above exception, another exception occurred:\n",
      "\n",
      "Traceback (most recent call last):\n",
      "  File \"C:\\Users\\vamsi\\Anaconda3\\lib\\site-packages\\IPython\\core\\ultratb.py\", line 1090, in get_records\n",
      "    return _fixed_getinnerframes(etb, number_of_lines_of_context, tb_offset)\n",
      "  File \"C:\\Users\\vamsi\\Anaconda3\\lib\\site-packages\\IPython\\core\\ultratb.py\", line 311, in wrapped\n",
      "    return f(*args, **kwargs)\n",
      "  File \"C:\\Users\\vamsi\\Anaconda3\\lib\\site-packages\\IPython\\core\\ultratb.py\", line 345, in _fixed_getinnerframes\n",
      "    records = fix_frame_records_filenames(inspect.getinnerframes(etb, context))\n",
      "  File \"C:\\Users\\vamsi\\Anaconda3\\lib\\inspect.py\", line 1483, in getinnerframes\n",
      "    frameinfo = (tb.tb_frame,) + getframeinfo(tb, context)\n",
      "  File \"C:\\Users\\vamsi\\Anaconda3\\lib\\inspect.py\", line 1441, in getframeinfo\n",
      "    filename = getsourcefile(frame) or getfile(frame)\n",
      "  File \"C:\\Users\\vamsi\\Anaconda3\\lib\\inspect.py\", line 696, in getsourcefile\n",
      "    if getattr(getmodule(object, filename), '__loader__', None) is not None:\n",
      "  File \"C:\\Users\\vamsi\\Anaconda3\\lib\\inspect.py\", line 732, in getmodule\n",
      "    for modname, module in list(sys.modules.items()):\n",
      "KeyboardInterrupt\n"
     ]
    },
    {
     "ename": "KeyboardInterrupt",
     "evalue": "",
     "output_type": "error",
     "traceback": [
      "\u001b[1;31m---------------------------------------------------------------------------\u001b[0m"
     ]
    }
   ],
   "source": [
    "from sklearn import model_selection\n",
    "from sklearn.model_selection import cross_val_score\n",
    "kfold = model_selection.KFold(n_splits=20, random_state=7)\n",
    "modelCV = LogisticRegression()\n",
    "scoring = 'accuracy'\n",
    "results = model_selection.cross_val_score(modelCV, train_words, train_Y, cv=kfold, scoring=scoring)\n",
    "print(\"10-fold cross validation average accuracy: %.3f\" % (results.mean()))"
   ]
  },
  {
   "cell_type": "code",
   "execution_count": null,
   "metadata": {},
   "outputs": [],
   "source": [
    "classifier.fit(train_words, train_Y)"
   ]
  },
  {
   "cell_type": "code",
   "execution_count": null,
   "metadata": {},
   "outputs": [],
   "source": [
    "result = classifier.predict_proba(test_words)[:, 1]"
   ]
  },
  {
   "cell_type": "code",
   "execution_count": null,
   "metadata": {},
   "outputs": [],
   "source": [
    "print('Accuracy of logistic regression classifier on test set: {:.2f}'.format(classifier.score(test_words, test_Y)))"
   ]
  },
  {
   "cell_type": "code",
   "execution_count": null,
   "metadata": {},
   "outputs": [],
   "source": [
    "# CHARACTER N_ GRAMS"
   ]
  },
  {
   "cell_type": "code",
   "execution_count": null,
   "metadata": {},
   "outputs": [],
   "source": [
    "char_vectorizer.fit(all_text)"
   ]
  },
  {
   "cell_type": "code",
   "execution_count": null,
   "metadata": {},
   "outputs": [],
   "source": [
    "train_chars = char_vectorizer.transform(train_text)"
   ]
  },
  {
   "cell_type": "code",
   "execution_count": null,
   "metadata": {},
   "outputs": [],
   "source": [
    "test_chars = char_vectorizer.transform(test_text)"
   ]
  },
  {
   "cell_type": "code",
   "execution_count": null,
   "metadata": {},
   "outputs": [],
   "source": [
    "char_vectorizer.get_feature_names()"
   ]
  },
  {
   "cell_type": "code",
   "execution_count": null,
   "metadata": {},
   "outputs": [],
   "source": [
    "train_chars = train_chars.toarray()"
   ]
  },
  {
   "cell_type": "code",
   "execution_count": null,
   "metadata": {},
   "outputs": [],
   "source": [
    "test_chars = test_chars.toarray()"
   ]
  },
  {
   "cell_type": "code",
   "execution_count": null,
   "metadata": {},
   "outputs": [],
   "source": [
    "from sklearn import model_selection\n",
    "from sklearn.model_selection import cross_val_score\n",
    "kfold = model_selection.KFold(n_splits=20, random_state=7)\n",
    "modelCV = LogisticRegression()\n",
    "scoring = 'accuracy'\n",
    "results = model_selection.cross_val_score(modelCV, train_chars, train_Y, cv=kfold, scoring=scoring)\n",
    "print(\"10-fold cross validation average accuracy: %.3f\" % (results.mean()))"
   ]
  },
  {
   "cell_type": "code",
   "execution_count": null,
   "metadata": {},
   "outputs": [],
   "source": [
    "classifier.fit(train_chars, train_Y)"
   ]
  },
  {
   "cell_type": "code",
   "execution_count": null,
   "metadata": {},
   "outputs": [],
   "source": [
    "print('Accuracy of logistic regression classifier on test set: {:.2f}'.format(classifier.score(test_chars, test_Y)))"
   ]
  },
  {
   "cell_type": "markdown",
   "metadata": {},
   "source": [
    "# <u> *Feed Forward Neural Network using Keras*"
   ]
  },
  {
   "cell_type": "code",
   "execution_count": null,
   "metadata": {},
   "outputs": [],
   "source": [
    "classifier_nn = Sequential()\n",
    "from keras.optimizers import RMSprop\n",
    "rmsprop = RMSprop(lr =0.0001)"
   ]
  },
  {
   "cell_type": "code",
   "execution_count": null,
   "metadata": {},
   "outputs": [],
   "source": [
    "from keras import backend as K\n",
    "def root_mean_squared_log_error(y_true, y_pred):\n",
    "        return K.sqrt(K.mean(K.square(K.log(y_pred+1) - K.log(y_true+1)), axis=-1)) "
   ]
  },
  {
   "cell_type": "code",
   "execution_count": null,
   "metadata": {},
   "outputs": [],
   "source": [
    "input_node = 14177"
   ]
  },
  {
   "cell_type": "code",
   "execution_count": null,
   "metadata": {},
   "outputs": [],
   "source": [
    "classifier_nn.add(Dense(100, activation ='relu',input_dim = input_node))\n",
    "classifier_nn.add(Dropout(rate= 0.1))"
   ]
  },
  {
   "cell_type": "code",
   "execution_count": null,
   "metadata": {},
   "outputs": [],
   "source": [
    "classifier_nn.add(Dense(20 , init ='he_normal', activation ='relu'))\n",
    "classifier_nn.add(Dropout(rate=0.1))"
   ]
  },
  {
   "cell_type": "code",
   "execution_count": null,
   "metadata": {},
   "outputs": [],
   "source": [
    "classifier_nn.add(Dense(output_dim = 1 , activation = \"sigmoid\",init ='uniform'))"
   ]
  },
  {
   "cell_type": "code",
   "execution_count": null,
   "metadata": {},
   "outputs": [],
   "source": [
    "classifier_nn.summary()"
   ]
  },
  {
   "cell_type": "code",
   "execution_count": null,
   "metadata": {
    "scrolled": true
   },
   "outputs": [],
   "source": [
    "classifier_nn.compile( optimizer= \"adam\" , loss='binary_crossentropy', metrics = [\"accuracy\"]  )"
   ]
  },
  {
   "cell_type": "code",
   "execution_count": null,
   "metadata": {},
   "outputs": [],
   "source": [
    "early_stop = EarlyStopping(monitor='val_acc', min_delta=0.0001, patience=1, \\\n",
    "                          verbose=1, mode='auto')"
   ]
  },
  {
   "cell_type": "code",
   "execution_count": null,
   "metadata": {},
   "outputs": [],
   "source": [
    "model_info  = classifier_nn.fit(train_words, train_Y ,validation_split=0.1,batch_size=64,epochs=10,callbacks=[early_stop])"
   ]
  },
  {
   "cell_type": "code",
   "execution_count": null,
   "metadata": {},
   "outputs": [],
   "source": [
    "#classifier.evaluate(test_words,test_Y) [0.9685665060097063,0.24397521308610137,0.657746478705339,0.6880829347691065]///"
   ]
  },
  {
   "cell_type": "code",
   "execution_count": null,
   "metadata": {},
   "outputs": [],
   "source": [
    "pred = classifier_nn.predict_classes(test_words)"
   ]
  },
  {
   "cell_type": "code",
   "execution_count": null,
   "metadata": {},
   "outputs": [],
   "source": [
    "from sklearn.metrics import accuracy_score,classification_report,confusion_matrix\n",
    "\n",
    "acc = accuracy_score(test_Y,pred)\n",
    "print(acc)\n",
    "print(classification_report(test_Y,pred))\n",
    "print(confusion_matrix(y_true = test_Y,y_pred= pred))\n"
   ]
  },
  {
   "cell_type": "markdown",
   "metadata": {},
   "source": [
    "# <u> *Character N-grams*"
   ]
  },
  {
   "cell_type": "code",
   "execution_count": null,
   "metadata": {},
   "outputs": [],
   "source": [
    "classifier_ngrams = Sequential()\n",
    "from keras.optimizers import RMSprop\n",
    "rmsprop = RMSprop(lr =0.0001)"
   ]
  },
  {
   "cell_type": "code",
   "execution_count": null,
   "metadata": {},
   "outputs": [],
   "source": [
    "input_node = 28249"
   ]
  },
  {
   "cell_type": "code",
   "execution_count": null,
   "metadata": {},
   "outputs": [],
   "source": [
    "BatchNormalization()\n",
    "classifier_ngrams.add(Dense(300, activation ='relu',input_dim = input_node))\n",
    "BatchNormalization()\n",
    "classifier_ngrams.add(Dropout(rate= 0.5))"
   ]
  },
  {
   "cell_type": "code",
   "execution_count": null,
   "metadata": {},
   "outputs": [],
   "source": [
    "classifier_ngrams.add(Dense(4 , init ='he_normal', activation ='relu'))\n",
    "classifier_ngrams.add(Dropout(rate=0.4))\n",
    "BatchNormalization()"
   ]
  },
  {
   "cell_type": "code",
   "execution_count": null,
   "metadata": {},
   "outputs": [],
   "source": [
    "classifier_ngrams.add(Dense(output_dim = 1 , activation = \"sigmoid\",init ='uniform'))"
   ]
  },
  {
   "cell_type": "code",
   "execution_count": null,
   "metadata": {},
   "outputs": [],
   "source": [
    "classifier_ngrams.summary()"
   ]
  },
  {
   "cell_type": "code",
   "execution_count": null,
   "metadata": {},
   "outputs": [],
   "source": [
    "classifier_ngrams.compile( optimizer= optimizers.RMSprop(lr = 0.001) , loss='mse', metrics = [\"accuracy\"] )"
   ]
  },
  {
   "cell_type": "code",
   "execution_count": null,
   "metadata": {},
   "outputs": [],
   "source": [
    "model_info_ngrams  = classifier_ngrams.fit(train_chars, train_Y ,validation_split=0.1,batch_size=128,epochs=10,callbacks= [early_stop])"
   ]
  },
  {
   "cell_type": "code",
   "execution_count": null,
   "metadata": {},
   "outputs": [],
   "source": [
    "pred = classifier_ngrams.predict_classes(test_chars)"
   ]
  },
  {
   "cell_type": "code",
   "execution_count": null,
   "metadata": {},
   "outputs": [],
   "source": [
    "from sklearn.metrics import accuracy_score,classification_report,confusion_matrix\n",
    "\n",
    "acc = accuracy_score(test_Y,pred)\n",
    "print(acc)\n",
    "print(classification_report(test_Y,pred))\n",
    "print(confusion_matrix(y_true = test_Y,y_pred= pred))\n"
   ]
  },
  {
   "cell_type": "markdown",
   "metadata": {},
   "source": [
    "# <u> *Numerical Features Neural Network*"
   ]
  },
  {
   "cell_type": "code",
   "execution_count": null,
   "metadata": {},
   "outputs": [],
   "source": [
    "x_train = np.array(ig_x.values)"
   ]
  },
  {
   "cell_type": "code",
   "execution_count": null,
   "metadata": {},
   "outputs": [],
   "source": [
    "x_train.shape"
   ]
  },
  {
   "cell_type": "code",
   "execution_count": null,
   "metadata": {},
   "outputs": [],
   "source": [
    "x_test = pd.DataFrame(X_test[['downs', 'score','ups', 'no_of_words',\n",
    "       'no_of_uppercase_letters', 'polarity', 'subjectivity', 'no_of_!',\n",
    "       'no_of_dots', 'no_of_?', 'no_of_single_quotes', 'Pos_NN', 'Pos_JJ', 'Pos_VB', 'Pos_RB',\n",
    "       'Noun_Ratio', 'Adjective_Ratio', 'Verb_Ratio', 'Adverb_Ratio']])"
   ]
  },
  {
   "cell_type": "code",
   "execution_count": null,
   "metadata": {},
   "outputs": [],
   "source": [
    "x_test = np.array(x_test)"
   ]
  },
  {
   "cell_type": "code",
   "execution_count": null,
   "metadata": {},
   "outputs": [],
   "source": [
    "x_test"
   ]
  },
  {
   "cell_type": "code",
   "execution_count": 342,
   "metadata": {},
   "outputs": [
    {
     "data": {
      "text/plain": [
       "array([[ 0.        ,  9.        ,  9.        , ...,  0.        ,\n",
       "         0.        ,  0.        ],\n",
       "       [ 0.        , 17.        , 17.        , ...,  0.125     ,\n",
       "         0.        ,  0.        ],\n",
       "       [ 0.        ,  3.        ,  3.        , ...,  0.08      ,\n",
       "         0.12      ,  0.04      ],\n",
       "       ...,\n",
       "       [-1.        ,  2.        , -1.        , ...,  0.09523809,\n",
       "         0.09523809,  0.        ],\n",
       "       [-1.        ,  1.        , -1.        , ...,  0.16666667,\n",
       "         0.        ,  0.08333333],\n",
       "       [-1.        ,  2.        , -1.        , ...,  0.        ,\n",
       "         0.25      ,  0.25      ]])"
      ]
     },
     "execution_count": 342,
     "metadata": {},
     "output_type": "execute_result"
    }
   ],
   "source": [
    "x_train"
   ]
  },
  {
   "cell_type": "code",
   "execution_count": 343,
   "metadata": {},
   "outputs": [
    {
     "data": {
      "text/plain": [
       "array([1, 0, 0, ..., 0, 0, 1], dtype=int64)"
      ]
     },
     "execution_count": 343,
     "metadata": {},
     "output_type": "execute_result"
    }
   ],
   "source": [
    "train_Y"
   ]
  },
  {
   "cell_type": "code",
   "execution_count": 344,
   "metadata": {},
   "outputs": [
    {
     "data": {
      "text/plain": [
       "array([0, 1, 1, ..., 0, 0, 1], dtype=int64)"
      ]
     },
     "execution_count": 344,
     "metadata": {},
     "output_type": "execute_result"
    }
   ],
   "source": [
    "test_Y"
   ]
  },
  {
   "cell_type": "code",
   "execution_count": 345,
   "metadata": {},
   "outputs": [],
   "source": [
    "classifier_number = Sequential()\n",
    "from keras.optimizers import RMSprop\n",
    "rmsprop = RMSprop(lr =0.0001)"
   ]
  },
  {
   "cell_type": "code",
   "execution_count": 356,
   "metadata": {},
   "outputs": [],
   "source": [
    "input_node = 33"
   ]
  },
  {
   "cell_type": "code",
   "execution_count": 357,
   "metadata": {},
   "outputs": [],
   "source": [
    "BatchNormalization()\n",
    "classifier_number.add(Dense(100, activation ='relu',input_dim = input_node))\n",
    "BatchNormalization()\n",
    "classifier_number.add(Dropout(rate= 0.2))"
   ]
  },
  {
   "cell_type": "code",
   "execution_count": 358,
   "metadata": {},
   "outputs": [
    {
     "name": "stderr",
     "output_type": "stream",
     "text": [
      "C:\\Users\\vamsi\\Anaconda3\\lib\\site-packages\\ipykernel_launcher.py:1: UserWarning: Update your `Dense` call to the Keras 2 API: `Dense(4, activation=\"relu\", kernel_initializer=\"he_normal\")`\n",
      "  \"\"\"Entry point for launching an IPython kernel.\n"
     ]
    },
    {
     "data": {
      "text/plain": [
       "<keras.layers.normalization.BatchNormalization at 0x1feef1e0940>"
      ]
     },
     "execution_count": 358,
     "metadata": {},
     "output_type": "execute_result"
    }
   ],
   "source": [
    "classifier_number.add(Dense(40 , init ='he_normal', activation ='relu'))\n",
    "classifier_number.add(Dropout(rate=0.2))\n",
    "BatchNormalization()"
   ]
  },
  {
   "cell_type": "code",
   "execution_count": 359,
   "metadata": {},
   "outputs": [
    {
     "name": "stderr",
     "output_type": "stream",
     "text": [
      "C:\\Users\\vamsi\\Anaconda3\\lib\\site-packages\\ipykernel_launcher.py:1: UserWarning: Update your `Dense` call to the Keras 2 API: `Dense(activation=\"sigmoid\", units=1, kernel_initializer=\"uniform\")`\n",
      "  \"\"\"Entry point for launching an IPython kernel.\n"
     ]
    }
   ],
   "source": [
    "classifier_number.add(Dense(output_dim = 1 , activation = \"sigmoid\",init ='uniform'))"
   ]
  },
  {
   "cell_type": "code",
   "execution_count": 360,
   "metadata": {},
   "outputs": [
    {
     "name": "stdout",
     "output_type": "stream",
     "text": [
      "_________________________________________________________________\n",
      "Layer (type)                 Output Shape              Param #   \n",
      "=================================================================\n",
      "dense_33 (Dense)             (None, 100)               2000      \n",
      "_________________________________________________________________\n",
      "dropout_23 (Dropout)         (None, 100)               0         \n",
      "_________________________________________________________________\n",
      "dense_34 (Dense)             (None, 4)                 404       \n",
      "_________________________________________________________________\n",
      "dropout_24 (Dropout)         (None, 4)                 0         \n",
      "_________________________________________________________________\n",
      "dense_35 (Dense)             (None, 1)                 5         \n",
      "_________________________________________________________________\n",
      "dense_36 (Dense)             (None, 100)               200       \n",
      "_________________________________________________________________\n",
      "dropout_25 (Dropout)         (None, 100)               0         \n",
      "_________________________________________________________________\n",
      "dense_37 (Dense)             (None, 4)                 404       \n",
      "_________________________________________________________________\n",
      "dropout_26 (Dropout)         (None, 4)                 0         \n",
      "_________________________________________________________________\n",
      "dense_38 (Dense)             (None, 1)                 5         \n",
      "=================================================================\n",
      "Total params: 3,018\n",
      "Trainable params: 3,018\n",
      "Non-trainable params: 0\n",
      "_________________________________________________________________\n"
     ]
    }
   ],
   "source": [
    "classifier_number.summary()"
   ]
  },
  {
   "cell_type": "code",
   "execution_count": 361,
   "metadata": {},
   "outputs": [],
   "source": [
    "classifier_number.compile( optimizer= RMSprop(lr = 0.001) , loss='mse', metrics = [\"accuracy\"]  )"
   ]
  },
  {
   "cell_type": "code",
   "execution_count": 413,
   "metadata": {},
   "outputs": [
    {
     "name": "stdout",
     "output_type": "stream",
     "text": [
      "Train on 12301 samples, validate on 1367 samples\n",
      "Epoch 1/10\n",
      "12301/12301 [==============================] - 3s 223us/step - loss: 0.2475 - acc: 0.5406 - f1_score: 0.5551 - val_loss: 0.2435 - val_acc: 0.5633 - val_f1_score: 0.5489\n",
      "Epoch 2/10\n",
      "12301/12301 [==============================] - 1s 111us/step - loss: 0.2405 - acc: 0.5824 - f1_score: 0.6038 - val_loss: 0.2379 - val_acc: 0.5918 - val_f1_score: 0.6129\n",
      "Epoch 3/10\n",
      "12301/12301 [==============================] - 1s 108us/step - loss: 0.2385 - acc: 0.5857 - f1_score: 0.6039 - val_loss: 0.2366 - val_acc: 0.5955 - val_f1_score: 0.6119\n",
      "Epoch 4/10\n",
      "12301/12301 [==============================] - 1s 111us/step - loss: 0.2367 - acc: 0.5917 - f1_score: 0.6063 - val_loss: 0.2358 - val_acc: 0.5918 - val_f1_score: 0.6604\n",
      "Epoch 5/10\n",
      "12301/12301 [==============================] - 1s 111us/step - loss: 0.2365 - acc: 0.5913 - f1_score: 0.6125 - val_loss: 0.2360 - val_acc: 0.6006 - val_f1_score: 0.6113\n",
      "Epoch 6/10\n",
      "12301/12301 [==============================] - 1s 115us/step - loss: 0.2360 - acc: 0.5944 - f1_score: 0.6157 - val_loss: 0.2371 - val_acc: 0.5794 - val_f1_score: 0.6836\n",
      "Epoch 7/10\n",
      "12301/12301 [==============================] - 1s 114us/step - loss: 0.2355 - acc: 0.5968 - f1_score: 0.6138 - val_loss: 0.2355 - val_acc: 0.6006 - val_f1_score: 0.6164\n",
      "Epoch 8/10\n",
      "12301/12301 [==============================] - 1s 108us/step - loss: 0.2347 - acc: 0.5965 - f1_score: 0.6198 - val_loss: 0.2340 - val_acc: 0.6050 - val_f1_score: 0.6562\n",
      "Epoch 9/10\n",
      "12301/12301 [==============================] - 1s 113us/step - loss: 0.2347 - acc: 0.6004 - f1_score: 0.6228 - val_loss: 0.2327 - val_acc: 0.6064 - val_f1_score: 0.6718\n",
      "Epoch 10/10\n",
      "12301/12301 [==============================] - 1s 112us/step - loss: 0.2350 - acc: 0.6002 - f1_score: 0.6228 - val_loss: 0.2339 - val_acc: 0.6064 - val_f1_score: 0.6268\n"
     ]
    }
   ],
   "source": [
    "model_info_number  = classifier_number.fit(x_train, train_Y ,validation_split=0.1,batch_size=16,epochs=10,callbacks=[early_stop])"
   ]
  },
  {
   "cell_type": "code",
   "execution_count": 362,
   "metadata": {},
   "outputs": [
    {
     "ename": "ValueError",
     "evalue": "Error when checking : expected dense_33_input to have shape (19,) but got array with shape (35,)",
     "output_type": "error",
     "traceback": [
      "\u001b[1;31m---------------------------------------------------------------------------\u001b[0m",
      "\u001b[1;31mValueError\u001b[0m                                Traceback (most recent call last)",
      "\u001b[1;32m<ipython-input-362-8f5dd6d82967>\u001b[0m in \u001b[0;36m<module>\u001b[1;34m()\u001b[0m\n\u001b[1;32m----> 1\u001b[1;33m \u001b[0mpred\u001b[0m \u001b[1;33m=\u001b[0m \u001b[0mclassifier_number\u001b[0m\u001b[1;33m.\u001b[0m\u001b[0mpredict_classes\u001b[0m\u001b[1;33m(\u001b[0m\u001b[0mX_test\u001b[0m\u001b[1;33m)\u001b[0m\u001b[1;33m\u001b[0m\u001b[0m\n\u001b[0m",
      "\u001b[1;32m~\\Anaconda3\\lib\\site-packages\\keras\\models.py\u001b[0m in \u001b[0;36mpredict_classes\u001b[1;34m(self, x, batch_size, verbose, steps)\u001b[0m\n\u001b[0;32m   1175\u001b[0m         \"\"\"\n\u001b[0;32m   1176\u001b[0m         proba = self.predict(x, batch_size=batch_size, verbose=verbose,\n\u001b[1;32m-> 1177\u001b[1;33m                              steps=steps)\n\u001b[0m\u001b[0;32m   1178\u001b[0m         \u001b[1;32mif\u001b[0m \u001b[0mproba\u001b[0m\u001b[1;33m.\u001b[0m\u001b[0mshape\u001b[0m\u001b[1;33m[\u001b[0m\u001b[1;33m-\u001b[0m\u001b[1;36m1\u001b[0m\u001b[1;33m]\u001b[0m \u001b[1;33m>\u001b[0m \u001b[1;36m1\u001b[0m\u001b[1;33m:\u001b[0m\u001b[1;33m\u001b[0m\u001b[0m\n\u001b[0;32m   1179\u001b[0m             \u001b[1;32mreturn\u001b[0m \u001b[0mproba\u001b[0m\u001b[1;33m.\u001b[0m\u001b[0margmax\u001b[0m\u001b[1;33m(\u001b[0m\u001b[0maxis\u001b[0m\u001b[1;33m=\u001b[0m\u001b[1;33m-\u001b[0m\u001b[1;36m1\u001b[0m\u001b[1;33m)\u001b[0m\u001b[1;33m\u001b[0m\u001b[0m\n",
      "\u001b[1;32m~\\Anaconda3\\lib\\site-packages\\keras\\models.py\u001b[0m in \u001b[0;36mpredict\u001b[1;34m(self, x, batch_size, verbose, steps)\u001b[0m\n\u001b[0;32m   1062\u001b[0m             \u001b[0mself\u001b[0m\u001b[1;33m.\u001b[0m\u001b[0mbuild\u001b[0m\u001b[1;33m(\u001b[0m\u001b[1;33m)\u001b[0m\u001b[1;33m\u001b[0m\u001b[0m\n\u001b[0;32m   1063\u001b[0m         return self.model.predict(x, batch_size=batch_size, verbose=verbose,\n\u001b[1;32m-> 1064\u001b[1;33m                                   steps=steps)\n\u001b[0m\u001b[0;32m   1065\u001b[0m \u001b[1;33m\u001b[0m\u001b[0m\n\u001b[0;32m   1066\u001b[0m     \u001b[1;32mdef\u001b[0m \u001b[0mpredict_on_batch\u001b[0m\u001b[1;33m(\u001b[0m\u001b[0mself\u001b[0m\u001b[1;33m,\u001b[0m \u001b[0mx\u001b[0m\u001b[1;33m)\u001b[0m\u001b[1;33m:\u001b[0m\u001b[1;33m\u001b[0m\u001b[0m\n",
      "\u001b[1;32m~\\Anaconda3\\lib\\site-packages\\keras\\engine\\training.py\u001b[0m in \u001b[0;36mpredict\u001b[1;34m(self, x, batch_size, verbose, steps)\u001b[0m\n\u001b[0;32m   1815\u001b[0m         x = _standardize_input_data(x, self._feed_input_names,\n\u001b[0;32m   1816\u001b[0m                                     \u001b[0mself\u001b[0m\u001b[1;33m.\u001b[0m\u001b[0m_feed_input_shapes\u001b[0m\u001b[1;33m,\u001b[0m\u001b[1;33m\u001b[0m\u001b[0m\n\u001b[1;32m-> 1817\u001b[1;33m                                     check_batch_axis=False)\n\u001b[0m\u001b[0;32m   1818\u001b[0m         \u001b[1;32mif\u001b[0m \u001b[0mself\u001b[0m\u001b[1;33m.\u001b[0m\u001b[0mstateful\u001b[0m\u001b[1;33m:\u001b[0m\u001b[1;33m\u001b[0m\u001b[0m\n\u001b[0;32m   1819\u001b[0m             \u001b[1;32mif\u001b[0m \u001b[0mx\u001b[0m\u001b[1;33m[\u001b[0m\u001b[1;36m0\u001b[0m\u001b[1;33m]\u001b[0m\u001b[1;33m.\u001b[0m\u001b[0mshape\u001b[0m\u001b[1;33m[\u001b[0m\u001b[1;36m0\u001b[0m\u001b[1;33m]\u001b[0m \u001b[1;33m>\u001b[0m \u001b[0mbatch_size\u001b[0m \u001b[1;32mand\u001b[0m \u001b[0mx\u001b[0m\u001b[1;33m[\u001b[0m\u001b[1;36m0\u001b[0m\u001b[1;33m]\u001b[0m\u001b[1;33m.\u001b[0m\u001b[0mshape\u001b[0m\u001b[1;33m[\u001b[0m\u001b[1;36m0\u001b[0m\u001b[1;33m]\u001b[0m \u001b[1;33m%\u001b[0m \u001b[0mbatch_size\u001b[0m \u001b[1;33m!=\u001b[0m \u001b[1;36m0\u001b[0m\u001b[1;33m:\u001b[0m\u001b[1;33m\u001b[0m\u001b[0m\n",
      "\u001b[1;32m~\\Anaconda3\\lib\\site-packages\\keras\\engine\\training.py\u001b[0m in \u001b[0;36m_standardize_input_data\u001b[1;34m(data, names, shapes, check_batch_axis, exception_prefix)\u001b[0m\n\u001b[0;32m    121\u001b[0m                             \u001b[1;34m': expected '\u001b[0m \u001b[1;33m+\u001b[0m \u001b[0mnames\u001b[0m\u001b[1;33m[\u001b[0m\u001b[0mi\u001b[0m\u001b[1;33m]\u001b[0m \u001b[1;33m+\u001b[0m \u001b[1;34m' to have shape '\u001b[0m \u001b[1;33m+\u001b[0m\u001b[1;33m\u001b[0m\u001b[0m\n\u001b[0;32m    122\u001b[0m                             \u001b[0mstr\u001b[0m\u001b[1;33m(\u001b[0m\u001b[0mshape\u001b[0m\u001b[1;33m)\u001b[0m \u001b[1;33m+\u001b[0m \u001b[1;34m' but got array with shape '\u001b[0m \u001b[1;33m+\u001b[0m\u001b[1;33m\u001b[0m\u001b[0m\n\u001b[1;32m--> 123\u001b[1;33m                             str(data_shape))\n\u001b[0m\u001b[0;32m    124\u001b[0m     \u001b[1;32mreturn\u001b[0m \u001b[0mdata\u001b[0m\u001b[1;33m\u001b[0m\u001b[0m\n\u001b[0;32m    125\u001b[0m \u001b[1;33m\u001b[0m\u001b[0m\n",
      "\u001b[1;31mValueError\u001b[0m: Error when checking : expected dense_33_input to have shape (19,) but got array with shape (35,)"
     ]
    }
   ],
   "source": [
    "pred = classifier_number.predict_classes(X_test)"
   ]
  },
  {
   "cell_type": "code",
   "execution_count": null,
   "metadata": {},
   "outputs": [],
   "source": [
    "from sklearn.metrics import accuracy_score,classification_report,confusion_matrix\n",
    "\n",
    "acc = accuracy_score(test_Y,pred)\n",
    "print(acc)\n",
    "print(classification_report(test_Y,pred))\n",
    "print(confusion_matrix(y_true = test_Y,y_pred= pred))\n"
   ]
  },
  {
   "cell_type": "code",
   "execution_count": 415,
   "metadata": {},
   "outputs": [
    {
     "data": {
      "image/png": "[encoded data removed]",
      "text/plain": [
       "<matplotlib.figure.Figure at 0x20c0e77e320>"
      ]
     },
     "metadata": {},
     "output_type": "display_data"
    }
   ],
   "source": [
    "plot_model_history(model_info_number)"
   ]
  },
  {
   "cell_type": "code",
   "execution_count": 414,
   "metadata": {},
   "outputs": [
    {
     "name": "stdout",
     "output_type": "stream",
     "text": [
      "2840/2840 [==============================] - 0s 32us/step\n"
     ]
    },
    {
     "data": {
      "text/plain": [
       "[0.23246369164594463, 0.6073943660292827, 0.645104938493648]"
      ]
     },
     "execution_count": 414,
     "metadata": {},
     "output_type": "execute_result"
    }
   ],
   "source": [
    "classifier_number.evaluate(x_test,test_Y)"
   ]
  },
  {
   "cell_type": "code",
   "execution_count": 414,
   "metadata": {},
   "outputs": [],
   "source": [
    "def basic_model(x_train, y_train, x_test, y_test,\n",
    "                 epochs=15, batch_size=32,drate = 0.5,hidden_units_1=40,hidden_units_2 = 4,save=False, plot_graph=False):\n",
    "    # Build the model\n",
    "    print(\"\\nBuilding Bow NN model...\")\n",
    "    model = Sequential()\n",
    "    model.add(Dense(hidden_units_1, input_shape=(x_train.shape[1],), activation='relu'))\n",
    "    BatchNormalization()\n",
    "    model.add(Dropout(rate = drate))\n",
    "    model.add(Dense(hidden_units_2,activation = \"relu\"))\n",
    "    model.add(Dense(1, activation='sigmoid'))\n",
    "    model.summary()\n",
    "\n",
    "    \n",
    "    model.compile(loss='binary_crossentropy', optimizer= optimizers.RMSprop(lr = 0.001), metrics=['accuracy'])\n",
    "    history = model.fit(x_train, y_train,validation_split = 0.1,batch_size=batch_size, epochs=epochs, verbose=1,callbacks=[early_stop])\n",
    "\n",
    "    # Evaluate the model\n",
    "    loss, acc = model.evaluate(x_test, y_test, batch_size=batch_size)\n",
    "    print(loss,acc)\n",
    "    classes = model.predict_classes(x_test, batch_size=batch_size)\n",
    "   "
   ]
  },
  {
   "cell_type": "markdown",
   "metadata": {},
   "source": [
    "# <u>*Latent Dirchlet Allocation Topics Embedding*"
   ]
  },
  {
   "cell_type": "code",
   "execution_count": 415,
   "metadata": {},
   "outputs": [],
   "source": [
    "X_t_100 = pd.read_csv(\"E:\\\\Datasets\\\\Final Project\\\\Politics Final\\\\test_balanced\\\\topics\\\\train_topics_100.csv\")"
   ]
  },
  {
   "cell_type": "code",
   "execution_count": 416,
   "metadata": {},
   "outputs": [],
   "source": [
    "X_test_100 = pd.read_csv(\"E:\\\\Datasets\\\\Final Project\\\\Politics Final\\\\test_balanced\\\\topics\\\\test_topics_100.csv\")"
   ]
  },
  {
   "cell_type": "code",
   "execution_count": 417,
   "metadata": {
    "scrolled": true
   },
   "outputs": [
    {
     "name": "stdout",
     "output_type": "stream",
     "text": [
      "\n",
      "Building Bow NN model...\n",
      "_________________________________________________________________\n",
      "Layer (type)                 Output Shape              Param #   \n",
      "=================================================================\n",
      "dense_64 (Dense)             (None, 100)               10200     \n",
      "_________________________________________________________________\n",
      "dropout_36 (Dropout)         (None, 100)               0         \n",
      "_________________________________________________________________\n",
      "dense_65 (Dense)             (None, 4)                 404       \n",
      "_________________________________________________________________\n",
      "dense_66 (Dense)             (None, 1)                 5         \n",
      "=================================================================\n",
      "Total params: 10,609\n",
      "Trainable params: 10,609\n",
      "Non-trainable params: 0\n",
      "_________________________________________________________________\n",
      "Train on 12301 samples, validate on 1367 samples\n",
      "Epoch 1/10\n",
      "12301/12301 [==============================] - 1s 98us/step - loss: 1.7744 - acc: 0.5034 - val_loss: 0.6932 - val_acc: 0.5011\n",
      "Epoch 2/10\n",
      "12301/12301 [==============================] - 0s 31us/step - loss: 0.7167 - acc: 0.4989 - val_loss: 0.6932 - val_acc: 0.5011\n",
      "Epoch 3/10\n",
      "12301/12301 [==============================] - 0s 30us/step - loss: 0.6957 - acc: 0.4980 - val_loss: 0.6931 - val_acc: 0.5011\n",
      "Epoch 4/10\n",
      "12301/12301 [==============================] - 0s 30us/step - loss: 0.6954 - acc: 0.4974 - val_loss: 0.6931 - val_acc: 0.5011\n",
      "Epoch 5/10\n",
      "12301/12301 [==============================] - 0s 29us/step - loss: 0.6974 - acc: 0.4968 - val_loss: 0.6931 - val_acc: 0.5011\n",
      "Epoch 6/10\n",
      "12301/12301 [==============================] - 0s 29us/step - loss: 0.7010 - acc: 0.4978 - val_loss: 0.6931 - val_acc: 0.5011\n",
      "Epoch 7/10\n",
      "12301/12301 [==============================] - 0s 29us/step - loss: 0.6969 - acc: 0.4904 - val_loss: 0.6931 - val_acc: 0.5011\n",
      "Epoch 8/10\n",
      "12301/12301 [==============================] - 0s 29us/step - loss: 0.6942 - acc: 0.4960 - val_loss: 0.6931 - val_acc: 0.5011\n",
      "Epoch 00008: early stopping\n",
      "2840/2840 [==============================] - 0s 14us/step\n",
      "0.6931471891806159 0.5\n"
     ]
    }
   ],
   "source": [
    "topics100 = basic_model(X_t_100,train_Y,X_test_100,test_Y,epochs= 10,drate=0.4,batch_size=64,hidden_units_1=120,plot_graph=True)"
   ]
  },
  {
   "cell_type": "markdown",
   "metadata": {},
   "source": [
    "#  <u> Topics = 80"
   ]
  },
  {
   "cell_type": "code",
   "execution_count": 418,
   "metadata": {},
   "outputs": [],
   "source": [
    "X_t_80 = pd.read_csv(\"E:\\\\Datasets\\\\Final Project\\\\Politics Final\\\\test_balanced\\\\topics\\\\train_topics_80.csv\")"
   ]
  },
  {
   "cell_type": "code",
   "execution_count": 419,
   "metadata": {},
   "outputs": [],
   "source": [
    "X_test_80 = pd.read_csv(\"E:\\\\Datasets\\\\Final Project\\\\Politics Final\\\\test_balanced\\\\topics\\\\test_topics_80.csv\")"
   ]
  },
  {
   "cell_type": "code",
   "execution_count": 420,
   "metadata": {},
   "outputs": [
    {
     "name": "stdout",
     "output_type": "stream",
     "text": [
      "\n",
      "Building Bow NN model...\n",
      "_________________________________________________________________\n",
      "Layer (type)                 Output Shape              Param #   \n",
      "=================================================================\n",
      "dense_67 (Dense)             (None, 80)                6560      \n",
      "_________________________________________________________________\n",
      "dropout_37 (Dropout)         (None, 80)                0         \n",
      "_________________________________________________________________\n",
      "dense_68 (Dense)             (None, 4)                 324       \n",
      "_________________________________________________________________\n",
      "dense_69 (Dense)             (None, 1)                 5         \n",
      "=================================================================\n",
      "Total params: 6,889\n",
      "Trainable params: 6,889\n",
      "Non-trainable params: 0\n",
      "_________________________________________________________________\n",
      "Train on 12301 samples, validate on 1367 samples\n",
      "Epoch 1/10\n",
      "12301/12301 [==============================] - 1s 118us/step - loss: 1.8310 - acc: 0.4987 - val_loss: 0.6932 - val_acc: 0.5011\n",
      "Epoch 2/10\n",
      "12301/12301 [==============================] - 0s 21us/step - loss: 0.7345 - acc: 0.4992 - val_loss: 0.6932 - val_acc: 0.5011\n",
      "Epoch 3/10\n",
      "12301/12301 [==============================] - 0s 21us/step - loss: 0.7028 - acc: 0.4999 - val_loss: 0.6932 - val_acc: 0.5011\n",
      "Epoch 4/10\n",
      "12301/12301 [==============================] - 0s 19us/step - loss: 0.6996 - acc: 0.4995 - val_loss: 0.6931 - val_acc: 0.5011\n",
      "Epoch 5/10\n",
      "12301/12301 [==============================] - 0s 22us/step - loss: 0.7022 - acc: 0.5002 - val_loss: 0.6931 - val_acc: 0.5011\n",
      "Epoch 6/10\n",
      "12301/12301 [==============================] - 0s 20us/step - loss: 0.7010 - acc: 0.4976 - val_loss: 0.6931 - val_acc: 0.4989\n",
      "Epoch 7/10\n",
      "12301/12301 [==============================] - 0s 21us/step - loss: 0.6990 - acc: 0.4920 - val_loss: 0.6932 - val_acc: 0.4989\n",
      "Epoch 8/10\n",
      "12301/12301 [==============================] - 0s 20us/step - loss: 0.6966 - acc: 0.5005 - val_loss: 0.6932 - val_acc: 0.4989\n",
      "Epoch 00008: early stopping\n",
      "2840/2840 [==============================] - 0s 9us/step\n",
      "0.6931490818379631 0.5\n"
     ]
    }
   ],
   "source": [
    "topics80 = basic_model(X_t_80,train_Y,X_test_80,test_Y,epochs= 10,drate=0.3,batch_size=100,hidden_units_1=100)"
   ]
  },
  {
   "cell_type": "markdown",
   "metadata": {},
   "source": [
    "# <u> Topics =  60 "
   ]
  },
  {
   "cell_type": "code",
   "execution_count": 421,
   "metadata": {},
   "outputs": [],
   "source": [
    "X_t_60 = pd.read_csv(\"E:\\\\Datasets\\\\Final Project\\\\Politics Final\\\\test_balanced\\\\topics\\\\train_topics_60.csv\")"
   ]
  },
  {
   "cell_type": "code",
   "execution_count": 422,
   "metadata": {},
   "outputs": [],
   "source": [
    "X_test_60 = pd.read_csv(\"E:\\\\Datasets\\\\Final Project\\\\Politics Final\\\\test_balanced\\\\topics\\\\test_topics_60.csv\")"
   ]
  },
  {
   "cell_type": "code",
   "execution_count": 423,
   "metadata": {},
   "outputs": [
    {
     "name": "stdout",
     "output_type": "stream",
     "text": [
      "\n",
      "Building Bow NN model...\n",
      "_________________________________________________________________\n",
      "Layer (type)                 Output Shape              Param #   \n",
      "=================================================================\n",
      "dense_70 (Dense)             (None, 60)                4920      \n",
      "_________________________________________________________________\n",
      "dropout_38 (Dropout)         (None, 60)                0         \n",
      "_________________________________________________________________\n",
      "dense_71 (Dense)             (None, 4)                 244       \n",
      "_________________________________________________________________\n",
      "dense_72 (Dense)             (None, 1)                 5         \n",
      "=================================================================\n",
      "Total params: 5,169\n",
      "Trainable params: 5,169\n",
      "Non-trainable params: 0\n",
      "_________________________________________________________________\n",
      "Train on 12301 samples, validate on 1367 samples\n",
      "Epoch 1/10\n",
      "12301/12301 [==============================] - 1s 98us/step - loss: 5.7190 - acc: 0.4948 - val_loss: 0.6935 - val_acc: 0.5011\n",
      "Epoch 2/10\n",
      "12301/12301 [==============================] - 0s 20us/step - loss: 0.8593 - acc: 0.5005 - val_loss: 0.6933 - val_acc: 0.5011\n",
      "Epoch 3/10\n",
      "12301/12301 [==============================] - 0s 20us/step - loss: 0.7370 - acc: 0.4997 - val_loss: 0.6932 - val_acc: 0.5011\n",
      "Epoch 4/10\n",
      "12301/12301 [==============================] - 0s 20us/step - loss: 0.7032 - acc: 0.5004 - val_loss: 0.6932 - val_acc: 0.5011\n",
      "Epoch 5/10\n",
      "12301/12301 [==============================] - 0s 20us/step - loss: 0.7025 - acc: 0.4999 - val_loss: 0.6931 - val_acc: 0.5011\n",
      "Epoch 6/10\n",
      "12301/12301 [==============================] - 0s 21us/step - loss: 0.6962 - acc: 0.4985 - val_loss: 0.6931 - val_acc: 0.5011\n",
      "Epoch 7/10\n",
      "12301/12301 [==============================] - 0s 21us/step - loss: 0.6939 - acc: 0.5003 - val_loss: 0.6932 - val_acc: 0.4989\n",
      "Epoch 8/10\n",
      "12301/12301 [==============================] - 0s 23us/step - loss: 0.6983 - acc: 0.5001 - val_loss: 0.6931 - val_acc: 0.5011\n",
      "Epoch 9/10\n",
      "12301/12301 [==============================] - 0s 23us/step - loss: 0.6932 - acc: 0.4944 - val_loss: 0.6931 - val_acc: 0.5011\n",
      "Epoch 10/10\n",
      "12301/12301 [==============================] - 0s 20us/step - loss: 0.6946 - acc: 0.4951 - val_loss: 0.6931 - val_acc: 0.5011\n",
      "2840/2840 [==============================] - 0s 9us/step\n",
      "0.6931497370693046 0.5\n"
     ]
    }
   ],
   "source": [
    "topics60 = basic_model(X_t_60,train_Y,X_test_60,test_Y,epochs= 10,drate=0.3,batch_size=100,hidden_units_1=80,plot_graph=True)"
   ]
  },
  {
   "cell_type": "markdown",
   "metadata": {},
   "source": [
    "# __*LSI word Embedding = 100*__"
   ]
  },
  {
   "cell_type": "code",
   "execution_count": 424,
   "metadata": {},
   "outputs": [],
   "source": [
    "lsitr_100 = pd.read_csv(\"E:\\\\Datasets\\\\Final Project\\\\Politics Final\\\\test_balanced\\\\LSI topics\\\\lsi_train_100.csv\")"
   ]
  },
  {
   "cell_type": "code",
   "execution_count": 425,
   "metadata": {},
   "outputs": [],
   "source": [
    "lsitest_100 = pd.read_csv(\"E:\\\\Datasets\\\\Final Project\\\\Politics Final\\\\test_balanced\\\\LSI topics\\\\lsi_test_100.csv\")"
   ]
  },
  {
   "cell_type": "code",
   "execution_count": 426,
   "metadata": {},
   "outputs": [
    {
     "name": "stdout",
     "output_type": "stream",
     "text": [
      "\n",
      "Building Bow NN model...\n",
      "_________________________________________________________________\n",
      "Layer (type)                 Output Shape              Param #   \n",
      "=================================================================\n",
      "dense_73 (Dense)             (None, 100)               10200     \n",
      "_________________________________________________________________\n",
      "dropout_39 (Dropout)         (None, 100)               0         \n",
      "_________________________________________________________________\n",
      "dense_74 (Dense)             (None, 4)                 404       \n",
      "_________________________________________________________________\n",
      "dense_75 (Dense)             (None, 1)                 5         \n",
      "=================================================================\n",
      "Total params: 10,609\n",
      "Trainable params: 10,609\n",
      "Non-trainable params: 0\n",
      "_________________________________________________________________\n",
      "Train on 12301 samples, validate on 1367 samples\n",
      "Epoch 1/10\n",
      "12301/12301 [==============================] - 1s 93us/step - loss: 7.8809 - acc: 0.4965 - val_loss: 7.9887 - val_acc: 0.4989\n",
      "Epoch 2/10\n",
      "12301/12301 [==============================] - 0s 24us/step - loss: 7.7520 - acc: 0.5017 - val_loss: 8.0414 - val_acc: 0.5011\n",
      "Epoch 3/10\n",
      "12301/12301 [==============================] - 0s 25us/step - loss: 7.7493 - acc: 0.5023 - val_loss: 8.0414 - val_acc: 0.5011\n",
      "Epoch 4/10\n",
      "12301/12301 [==============================] - 0s 27us/step - loss: 7.9931 - acc: 0.4995 - val_loss: 8.0414 - val_acc: 0.5011\n",
      "Epoch 00004: early stopping\n",
      "2840/2840 [==============================] - 0s 14us/step\n",
      "7.842773244414531 0.4996478876597445\n"
     ]
    }
   ],
   "source": [
    "topics60 = basic_model(lsitr_100,train_Y,lsitest_100,test_Y,epochs= 10,drate=0.3,batch_size=120,hidden_units_1=100)"
   ]
  },
  {
   "cell_type": "markdown",
   "metadata": {},
   "source": [
    "#  *LSI word Embedding = 80*"
   ]
  },
  {
   "cell_type": "code",
   "execution_count": 427,
   "metadata": {},
   "outputs": [],
   "source": [
    "lsitr_80 = pd.read_csv(\"E:\\\\Datasets\\\\Final Project\\\\Politics Final\\\\test_balanced\\\\LSI topics\\\\lsi_train_80.csv\")"
   ]
  },
  {
   "cell_type": "code",
   "execution_count": 428,
   "metadata": {},
   "outputs": [],
   "source": [
    "lsitest_80 = pd.read_csv(\"E:\\\\Datasets\\\\Final Project\\\\Politics Final\\\\test_balanced\\\\LSI topics\\\\lsi_test_80.csv\")"
   ]
  },
  {
   "cell_type": "code",
   "execution_count": 429,
   "metadata": {},
   "outputs": [
    {
     "name": "stdout",
     "output_type": "stream",
     "text": [
      "\n",
      "Building Bow NN model...\n",
      "_________________________________________________________________\n",
      "Layer (type)                 Output Shape              Param #   \n",
      "=================================================================\n",
      "dense_76 (Dense)             (None, 80)                6560      \n",
      "_________________________________________________________________\n",
      "dropout_40 (Dropout)         (None, 80)                0         \n",
      "_________________________________________________________________\n",
      "dense_77 (Dense)             (None, 4)                 324       \n",
      "_________________________________________________________________\n",
      "dense_78 (Dense)             (None, 1)                 5         \n",
      "=================================================================\n",
      "Total params: 6,889\n",
      "Trainable params: 6,889\n",
      "Non-trainable params: 0\n",
      "_________________________________________________________________\n",
      "Train on 12301 samples, validate on 1367 samples\n",
      "Epoch 1/10\n",
      "12301/12301 [==============================] - 1s 91us/step - loss: 3.2657 - acc: 0.5021 - val_loss: 0.6934 - val_acc: 0.4989\n",
      "Epoch 2/10\n",
      "12301/12301 [==============================] - 0s 22us/step - loss: 0.7595 - acc: 0.5013 - val_loss: 0.6933 - val_acc: 0.4989\n",
      "Epoch 3/10\n",
      "12301/12301 [==============================] - 0s 24us/step - loss: 0.7308 - acc: 0.4989 - val_loss: 0.6932 - val_acc: 0.4989\n",
      "Epoch 4/10\n",
      "12301/12301 [==============================] - 0s 24us/step - loss: 0.7046 - acc: 0.5001 - val_loss: 0.6932 - val_acc: 0.4989\n",
      "Epoch 5/10\n",
      "12301/12301 [==============================] - 0s 23us/step - loss: 0.6995 - acc: 0.5002 - val_loss: 0.6932 - val_acc: 0.4989\n",
      "Epoch 6/10\n",
      "12301/12301 [==============================] - 0s 23us/step - loss: 0.6950 - acc: 0.5003 - val_loss: 0.6932 - val_acc: 0.4989\n",
      "Epoch 7/10\n",
      "12301/12301 [==============================] - 0s 24us/step - loss: 0.6943 - acc: 0.4991 - val_loss: 0.6932 - val_acc: 0.4989\n",
      "Epoch 8/10\n",
      "12301/12301 [==============================] - 0s 21us/step - loss: 0.7022 - acc: 0.4986 - val_loss: 0.6932 - val_acc: 0.4989\n",
      "Epoch 9/10\n",
      "12301/12301 [==============================] - 0s 26us/step - loss: 0.6966 - acc: 0.5003 - val_loss: 0.6932 - val_acc: 0.4989\n",
      "Epoch 00009: early stopping\n",
      "2840/2840 [==============================] - 0s 11us/step\n",
      "0.69320835362018 0.5\n"
     ]
    }
   ],
   "source": [
    "topics80 = basic_model(lsitr_80,train_Y,lsitest_80,test_Y,epochs= 10,drate=0.3,batch_size=100,hidden_units_1=80)"
   ]
  },
  {
   "cell_type": "code",
   "execution_count": null,
   "metadata": {},
   "outputs": [],
   "source": [
    "#"
   ]
  },
  {
   "cell_type": "code",
   "execution_count": null,
   "metadata": {},
   "outputs": [],
   "source": []
  }
 ],
 "metadata": {
  "kernelspec": {
   "display_name": "Python 3",
   "language": "python",
   "name": "python3"
  },
  "language_info": {
   "codemirror_mode": {
    "name": "ipython",
    "version": 3
   },
   "file_extension": ".py",
   "mimetype": "text/x-python",
   "name": "python",
   "nbconvert_exporter": "python",
   "pygments_lexer": "ipython3",
   "version": "3.6.4"
  }
 },
 "nbformat": 4,
 "nbformat_minor": 2
}
